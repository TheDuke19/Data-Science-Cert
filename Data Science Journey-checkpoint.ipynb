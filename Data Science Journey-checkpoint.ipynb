{
 "cells": [
  {
   "cell_type": "markdown",
   "id": "89a4696c",
   "metadata": {},
   "source": [
    "# Let's learn Python!"
   ]
  },
  {
   "cell_type": "markdown",
   "id": "2de6e36e",
   "metadata": {},
   "source": [
    "..with the help of [this](https://www.youtube.com/watch?v=LHBE6Q9XlzI) You Tube video, and also [How to Automate the Boring Stuff with Al Sweigart](https://automatetheboringstuff.com/#toc). \n",
    "Also, an IBM Data Science Certificate from [Coursera](https://www.coursera.org/professional-certificates/ibm-data-science)\n",
    "Here are some helpful links: \n",
    "[Jupyter cheat codes](https://github.com/adam-p/markdown-here/wiki/Markdown-Cheatsheet#html), [.tar.gz files](https://opensource.com/article/17/7/how-unzip-targz-file?utm_medium=Exinfluencer&utm_source=Exinfluencer&utm_content=000026UJ&utm_term=10006555&utm_id=NA-SkillsNetwork-wwwcourseraorg-SkillsNetworkCoursesIBMDeveloperSkillsNetworkDS0105ENSkillsNetwork20083975-2021-01-01), [Jupyter notebook skills](https://github.com/jupyter/jupyter/wiki), [when jupyter nb is just a link](https://nbviewer.org/?utm_medium=Exinfluencer&utm_source=Exinfluencer&utm_content=000026UJ&utm_term=10006555&utm_id=NA-SkillsNetwork-Channel-SkillsNetworkCoursesIBMDeveloperSkillsNetworkDS0105ENSkillsNetwork20083975-2021-01-01), [Exploratory Data Analysis NB](https://nbviewer.org/github/Tanu-N-Prabhu/Python/blob/master/Exploratory_data_Analysis.ipynb?utm_medium=Exinfluencer&utm_source=Exinfluencer&utm_content=000026UJ&utm_term=10006555&utm_id=NA-SkillsNetwork-Channel-SkillsNetworkCoursesIBMDeveloperSkillsNetworkDS0105ENSkillsNetwork20083975-2021-01-01), [Data integration/cleansing](https://towardsdatascience.com/data-cleaning-with-python-using-pandas-library-c6f4a68ea8eb), [Clustering](https://nbviewer.org/github/temporaer/tutorial_ml_gkbionics/blob/master/2%20-%20KMeans.ipynb?utm_medium=Exinfluencer&utm_source=Exinfluencer&utm_content=000026UJ&utm_term=10006555&utm_id=NA-SkillsNetwork-wwwcourseraorg-SkillsNetworkCoursesIBMDeveloperSkillsNetworkDS0105ENSkillsNetwork20083975-2021-01-01), [Iris:Machine learning EDL](https://www.kaggle.com/lalitharajesh/iris-dataset-exploratory-data-analysis/notebook), [API keys for beginners](https://www.youtube.com/watch?v=fklHBWow8vE), [API keys full course](https://www.youtube.com/watch?v=GZvSYJDk-us)\n",
    ", [HTTPS response codes](https://developer.mozilla.org/en-US/docs/Web/HTTP/Status?utm_medium=Exinfluencer&utm_source=Exinfluencer&utm_content=000026UJ&utm_term=10006555&utm_id=NA-SkillsNetwork-Channel-SkillsNetworkCoursesIBMDeveloperSkillsNetworkPY0101ENSkillsNetwork19487395-2021-01-01), "
   ]
  },
  {
   "cell_type": "code",
   "execution_count": 1,
   "id": "527b00f7",
   "metadata": {
    "scrolled": true
   },
   "outputs": [
    {
     "name": "stdout",
     "output_type": "stream",
     "text": [
      "Hello, Data Science!\n"
     ]
    }
   ],
   "source": [
    "print('Hello, Data Science!')"
   ]
  },
  {
   "cell_type": "markdown",
   "id": "315b39ff",
   "metadata": {},
   "source": [
    "# Variable practice and basic operators"
   ]
  },
  {
   "cell_type": "code",
   "execution_count": null,
   "id": "7733b6af",
   "metadata": {},
   "outputs": [],
   "source": [
    "a = 1\n",
    "b = 2.4"
   ]
  },
  {
   "cell_type": "code",
   "execution_count": null,
   "id": "21153f96",
   "metadata": {},
   "outputs": [],
   "source": [
    "a+b"
   ]
  },
  {
   "cell_type": "code",
   "execution_count": null,
   "id": "393d6bc6",
   "metadata": {},
   "outputs": [],
   "source": [
    "a-b"
   ]
  },
  {
   "cell_type": "code",
   "execution_count": null,
   "id": "1c700a73",
   "metadata": {},
   "outputs": [],
   "source": [
    "a*b"
   ]
  },
  {
   "cell_type": "code",
   "execution_count": null,
   "id": "01546389",
   "metadata": {},
   "outputs": [],
   "source": [
    "a/b"
   ]
  },
  {
   "cell_type": "code",
   "execution_count": null,
   "id": "b3ea7642",
   "metadata": {},
   "outputs": [],
   "source": [
    "%whos"
   ]
  },
  {
   "cell_type": "code",
   "execution_count": null,
   "id": "385a955a",
   "metadata": {},
   "outputs": [],
   "source": [
    "print(type(a))"
   ]
  },
  {
   "cell_type": "code",
   "execution_count": null,
   "id": "4b8ba5f2",
   "metadata": {},
   "outputs": [],
   "source": [
    "print(type(b))"
   ]
  },
  {
   "cell_type": "code",
   "execution_count": null,
   "id": "949236ce",
   "metadata": {},
   "outputs": [],
   "source": [
    "c,d,e,f,g= 13.0,-4,0,12.34,-23.53"
   ]
  },
  {
   "cell_type": "code",
   "execution_count": null,
   "id": "9a5e6a18",
   "metadata": {},
   "outputs": [],
   "source": [
    "%whos"
   ]
  },
  {
   "cell_type": "code",
   "execution_count": null,
   "id": "cb253d5a",
   "metadata": {},
   "outputs": [],
   "source": [
    "del c"
   ]
  },
  {
   "cell_type": "code",
   "execution_count": null,
   "id": "7e75ac6b",
   "metadata": {},
   "outputs": [],
   "source": [
    "a,b,d,e,f,g"
   ]
  },
  {
   "cell_type": "code",
   "execution_count": null,
   "id": "f44f86bb",
   "metadata": {
    "scrolled": true
   },
   "outputs": [],
   "source": [
    "c"
   ]
  },
  {
   "cell_type": "code",
   "execution_count": null,
   "id": "c65785f2",
   "metadata": {},
   "outputs": [],
   "source": [
    "c=19+34j"
   ]
  },
  {
   "cell_type": "code",
   "execution_count": null,
   "id": "6164288e",
   "metadata": {
    "scrolled": true
   },
   "outputs": [],
   "source": [
    "print(type(c))"
   ]
  },
  {
   "cell_type": "markdown",
   "id": "b8b77c95",
   "metadata": {},
   "source": [
    "Why is it 'j' and not any other variable that makes it complex?\n",
    "\n",
    "Because Python follows an engineering standpoint, in this case, 'j' is from electrical engineering."
   ]
  },
  {
   "cell_type": "markdown",
   "id": "3d09ad9e",
   "metadata": {},
   "source": [
    "    Math operator symbols\n",
    "\n",
    "Symbol           Task Performed\n",
    "  +                 Addition\n",
    "  -                 Subtraction\n",
    "  /                 Division\n",
    "  %                 Mod\n",
    "  *                 Multiplication\n",
    "  //                Floor Division\n",
    "  **                To the power of"
   ]
  },
  {
   "cell_type": "markdown",
   "id": "6f6811ea",
   "metadata": {},
   "source": [
    "a%b computes the remainder"
   ]
  },
  {
   "cell_type": "code",
   "execution_count": null,
   "id": "4db3ef5b",
   "metadata": {},
   "outputs": [],
   "source": [
    "a=27\n",
    "b=5\n",
    "a%b"
   ]
  },
  {
   "cell_type": "markdown",
   "id": "2ae2edea",
   "metadata": {},
   "source": [
    "Floor division will return an integer value instead of a float"
   ]
  },
  {
   "cell_type": "code",
   "execution_count": null,
   "id": "5178a86f",
   "metadata": {},
   "outputs": [],
   "source": [
    "a//b"
   ]
  },
  {
   "cell_type": "code",
   "execution_count": null,
   "id": "662464bf",
   "metadata": {},
   "outputs": [],
   "source": [
    "a/b"
   ]
  },
  {
   "cell_type": "code",
   "execution_count": 8,
   "id": "b022e47b",
   "metadata": {},
   "outputs": [
    {
     "data": {
      "text/plain": [
       "22"
      ]
     },
     "execution_count": 8,
     "metadata": {},
     "output_type": "execute_result"
    }
   ],
   "source": [
    "D = {1:21,1:22}\n",
    "D[1]"
   ]
  },
  {
   "cell_type": "code",
   "execution_count": 11,
   "id": "e145c317",
   "metadata": {},
   "outputs": [
    {
     "ename": "NameError",
     "evalue": "name 'A' is not defined",
     "output_type": "error",
     "traceback": [
      "\u001b[1;31m---------------------------------------------------------------------------\u001b[0m",
      "\u001b[1;31mNameError\u001b[0m                                 Traceback (most recent call last)",
      "\u001b[1;32m~\\AppData\\Local\\Temp/ipykernel_260/2362519597.py\u001b[0m in \u001b[0;36m<module>\u001b[1;34m\u001b[0m\n\u001b[1;32m----> 1\u001b[1;33m \u001b[0ma\u001b[0m\u001b[1;33m=\u001b[0m\u001b[0mset\u001b[0m\u001b[1;33m(\u001b[0m\u001b[0mA\u001b[0m\u001b[1;33m)\u001b[0m\u001b[1;33m\u001b[0m\u001b[1;33m\u001b[0m\u001b[0m\n\u001b[0m",
      "\u001b[1;31mNameError\u001b[0m: name 'A' is not defined"
     ]
    }
   ],
   "source": [
    " a=set(A)"
   ]
  },
  {
   "cell_type": "markdown",
   "id": "5522ae6d",
   "metadata": {},
   "source": [
    "# Operators"
   ]
  },
  {
   "cell_type": "code",
   "execution_count": null,
   "id": "b04d8596",
   "metadata": {},
   "outputs": [],
   "source": [
    "%whos"
   ]
  },
  {
   "cell_type": "code",
   "execution_count": null,
   "id": "cdf5d211",
   "metadata": {},
   "outputs": [],
   "source": [
    "sumAB=a+b"
   ]
  },
  {
   "cell_type": "code",
   "execution_count": null,
   "id": "42e47317",
   "metadata": {},
   "outputs": [],
   "source": [
    "print(sumAB)"
   ]
  },
  {
   "cell_type": "code",
   "execution_count": null,
   "id": "10aaf3d4",
   "metadata": {},
   "outputs": [],
   "source": [
    "type(sumAB)"
   ]
  },
  {
   "cell_type": "code",
   "execution_count": null,
   "id": "4c35bc06",
   "metadata": {},
   "outputs": [],
   "source": [
    "type(a+f)"
   ]
  },
  {
   "cell_type": "markdown",
   "id": "0e6cad27",
   "metadata": {},
   "source": [
    "Floats supercedes integers"
   ]
  },
  {
   "cell_type": "code",
   "execution_count": null,
   "id": "218da2d8",
   "metadata": {},
   "outputs": [],
   "source": [
    "s1 = 'Hello '\n",
    "s2 = 'Data Science!'\n",
    "s1+s2"
   ]
  },
  {
   "cell_type": "code",
   "execution_count": null,
   "id": "1e969672",
   "metadata": {},
   "outputs": [],
   "source": [
    "c+f"
   ]
  },
  {
   "cell_type": "code",
   "execution_count": null,
   "id": "a9b4a7e8",
   "metadata": {},
   "outputs": [],
   "source": [
    "type(c+f)"
   ]
  },
  {
   "cell_type": "markdown",
   "id": "0b48c32b",
   "metadata": {},
   "source": [
    "Complex supercedes float"
   ]
  },
  {
   "cell_type": "code",
   "execution_count": null,
   "id": "c741dd47",
   "metadata": {
    "scrolled": true
   },
   "outputs": [],
   "source": [
    "10//3"
   ]
  },
  {
   "cell_type": "markdown",
   "id": "c9f27dcd",
   "metadata": {},
   "source": [
    "Where is my variable stored?!"
   ]
  },
  {
   "cell_type": "code",
   "execution_count": null,
   "id": "b4c4ede7",
   "metadata": {},
   "outputs": [],
   "source": [
    "_"
   ]
  },
  {
   "cell_type": "markdown",
   "id": "46d7f689",
   "metadata": {},
   "source": [
    "Default assignment is the underscore icon _!"
   ]
  },
  {
   "cell_type": "markdown",
   "id": "09401fb5",
   "metadata": {},
   "source": [
    "# Variable naming"
   ]
  },
  {
   "cell_type": "code",
   "execution_count": null,
   "id": "b7502bda",
   "metadata": {},
   "outputs": [],
   "source": [
    "1x=12"
   ]
  },
  {
   "cell_type": "code",
   "execution_count": null,
   "id": "26a9e945",
   "metadata": {},
   "outputs": [],
   "source": [
    "x=12"
   ]
  },
  {
   "cell_type": "code",
   "execution_count": null,
   "id": "9e086962",
   "metadata": {},
   "outputs": [],
   "source": [
    "x"
   ]
  },
  {
   "cell_type": "code",
   "execution_count": null,
   "id": "08de45a6",
   "metadata": {},
   "outputs": [],
   "source": [
    "literallyanythingIwant=12"
   ]
  },
  {
   "cell_type": "code",
   "execution_count": null,
   "id": "377b7666",
   "metadata": {},
   "outputs": [],
   "source": [
    "x"
   ]
  },
  {
   "cell_type": "code",
   "execution_count": null,
   "id": "f5de54b9",
   "metadata": {},
   "outputs": [],
   "source": [
    "literallyanythingIwant"
   ]
  },
  {
   "cell_type": "code",
   "execution_count": null,
   "id": "8c96aa3b",
   "metadata": {},
   "outputs": [],
   "source": [
    "x+literallyanythingIwant"
   ]
  },
  {
   "cell_type": "markdown",
   "id": "81e1cc42",
   "metadata": {},
   "source": [
    "So, there are a few exceptions to writing variable names, but not many. Make them descriptive, and simple to remember. Just dont name anything that already exists as a variable in Python, and have them start with letters not charachters. The only exception is the underscore."
   ]
  },
  {
   "cell_type": "code",
   "execution_count": null,
   "id": "26069789",
   "metadata": {},
   "outputs": [],
   "source": [
    "_"
   ]
  },
  {
   "cell_type": "code",
   "execution_count": null,
   "id": "29063161",
   "metadata": {},
   "outputs": [],
   "source": [
    "_3=23"
   ]
  },
  {
   "cell_type": "code",
   "execution_count": null,
   "id": "e046a357",
   "metadata": {},
   "outputs": [],
   "source": [
    "_3"
   ]
  },
  {
   "cell_type": "markdown",
   "id": "3f84faaf",
   "metadata": {},
   "source": [
    "# Boolean Operators"
   ]
  },
  {
   "cell_type": "markdown",
   "id": "b8efe259",
   "metadata": {},
   "source": [
    "Symbol               Task Performed\n",
    "  ==                 True, if it is equal\n",
    "  !=                 True, if not equal to\n",
    "  <                  Less than\n",
    "  >                  Greater than\n",
    "  <=                 Less than or equal to\n",
    "  >=                 Greater than or equal to"
   ]
  },
  {
   "cell_type": "markdown",
   "id": "a2f0fa08",
   "metadata": {},
   "source": [
    "   Binary Operators for True/False statements\n",
    "\n",
    "T and T = T         T or T = T         not T = F\n",
    "T and F = F         T or F = T         not F = T\n",
    "F and T = F         F or T = T         not not T = T\n",
    "F and F = F         F or F = F"
   ]
  },
  {
   "cell_type": "code",
   "execution_count": null,
   "id": "f64ebce7",
   "metadata": {},
   "outputs": [],
   "source": [
    "a = True\n",
    "b= False\n",
    "c = not True\n",
    "d= not False\n",
    "e = not not not not not not not True"
   ]
  },
  {
   "cell_type": "code",
   "execution_count": null,
   "id": "4bc6d1ee",
   "metadata": {},
   "outputs": [],
   "source": [
    "%whos"
   ]
  },
  {
   "cell_type": "code",
   "execution_count": null,
   "id": "5d8a024d",
   "metadata": {},
   "outputs": [],
   "source": [
    "print(a and e)\n",
    "print(c or b)\n",
    "print(a and a)\n",
    "print(not (not(e)))"
   ]
  },
  {
   "cell_type": "code",
   "execution_count": null,
   "id": "fed96d7b",
   "metadata": {},
   "outputs": [],
   "source": [
    "type(a)"
   ]
  },
  {
   "cell_type": "code",
   "execution_count": null,
   "id": "82efae20",
   "metadata": {},
   "outputs": [],
   "source": [
    "not((a and b) or (c or d))"
   ]
  },
  {
   "cell_type": "markdown",
   "id": "4eacdf9c",
   "metadata": {},
   "source": [
    "# Comparisons"
   ]
  },
  {
   "cell_type": "code",
   "execution_count": null,
   "id": "e9a4b27e",
   "metadata": {},
   "outputs": [],
   "source": [
    "print(2<4)"
   ]
  },
  {
   "cell_type": "code",
   "execution_count": null,
   "id": "fb37d9be",
   "metadata": {},
   "outputs": [],
   "source": [
    "print(4<2)"
   ]
  },
  {
   "cell_type": "code",
   "execution_count": null,
   "id": "d63b3ce1",
   "metadata": {},
   "outputs": [],
   "source": [
    "c= 2<3\n",
    "print(type(c))\n",
    "print(c)"
   ]
  },
  {
   "cell_type": "code",
   "execution_count": null,
   "id": "15ee0ce3",
   "metadata": {},
   "outputs": [],
   "source": [
    "3==4"
   ]
  },
  {
   "cell_type": "code",
   "execution_count": null,
   "id": "891f7e75",
   "metadata": {},
   "outputs": [],
   "source": [
    "d = 3==4\n",
    "print(type(d))\n",
    "print(d)"
   ]
  },
  {
   "cell_type": "code",
   "execution_count": null,
   "id": "cebca4cb",
   "metadata": {},
   "outputs": [],
   "source": [
    "3==3.0"
   ]
  },
  {
   "cell_type": "markdown",
   "id": "dd71616c",
   "metadata": {},
   "source": [
    "Integers and floating point numbers can be compared."
   ]
  },
  {
   "cell_type": "code",
   "execution_count": null,
   "id": "7cbfb8df",
   "metadata": {},
   "outputs": [],
   "source": [
    "x = 4\n",
    "y = 9\n",
    "z = 8.3\n",
    "i = -1"
   ]
  },
  {
   "cell_type": "code",
   "execution_count": null,
   "id": "0b9e6a58",
   "metadata": {},
   "outputs": [],
   "source": [
    "(x<y) and (z<y) or (y<i)"
   ]
  },
  {
   "cell_type": "markdown",
   "id": "801f4860",
   "metadata": {},
   "source": [
    "Read this like a book, left to right, using the Binary Operators. The first statement is True, the second statement is True, so True and True = True.\n",
    "The third statement is False, but since True or False = True; the statement is found to have a Boolean value of True"
   ]
  },
  {
   "cell_type": "code",
   "execution_count": null,
   "id": "5e260099",
   "metadata": {},
   "outputs": [],
   "source": [
    "True and False or True"
   ]
  },
  {
   "cell_type": "code",
   "execution_count": null,
   "id": "ce24c218",
   "metadata": {},
   "outputs": [],
   "source": [
    "True and (False or True)"
   ]
  },
  {
   "cell_type": "code",
   "execution_count": null,
   "id": "9f32483b",
   "metadata": {},
   "outputs": [],
   "source": [
    "False and (False or True)"
   ]
  },
  {
   "cell_type": "code",
   "execution_count": null,
   "id": "2bb306a8",
   "metadata": {},
   "outputs": [],
   "source": [
    "(False and False) or True"
   ]
  },
  {
   "cell_type": "code",
   "execution_count": null,
   "id": "128d6d53",
   "metadata": {},
   "outputs": [],
   "source": [
    "True or False and True"
   ]
  },
  {
   "cell_type": "markdown",
   "id": "aa4b6048",
   "metadata": {},
   "source": [
    "# Some Useful Functions"
   ]
  },
  {
   "cell_type": "code",
   "execution_count": null,
   "id": "2e924fab",
   "metadata": {},
   "outputs": [],
   "source": [
    "round(1.63756,2)"
   ]
  },
  {
   "cell_type": "markdown",
   "id": "b4861247",
   "metadata": {},
   "source": [
    "round(argument, decimal place argument)"
   ]
  },
  {
   "cell_type": "code",
   "execution_count": null,
   "id": "c5676938",
   "metadata": {},
   "outputs": [],
   "source": [
    "print(round(4.3456))"
   ]
  },
  {
   "cell_type": "code",
   "execution_count": null,
   "id": "7fbc38e3",
   "metadata": {},
   "outputs": [],
   "source": [
    "x = 1\n",
    "y = 2\n",
    "divmod(x,y)"
   ]
  },
  {
   "cell_type": "markdown",
   "id": "52808839",
   "metadata": {},
   "source": [
    "divmod(x,y) outputs the quotient and remander in a tuple"
   ]
  },
  {
   "cell_type": "code",
   "execution_count": null,
   "id": "11848fe0",
   "metadata": {},
   "outputs": [],
   "source": [
    "divmod(11,22)"
   ]
  },
  {
   "cell_type": "code",
   "execution_count": null,
   "id": "ca5d2479",
   "metadata": {},
   "outputs": [],
   "source": [
    "G = divmod(34,9)"
   ]
  },
  {
   "cell_type": "code",
   "execution_count": null,
   "id": "d879617d",
   "metadata": {},
   "outputs": [],
   "source": [
    "%whos"
   ]
  },
  {
   "cell_type": "code",
   "execution_count": null,
   "id": "a823eee8",
   "metadata": {},
   "outputs": [],
   "source": [
    "G[0]"
   ]
  },
  {
   "cell_type": "code",
   "execution_count": null,
   "id": "c69d5454",
   "metadata": {},
   "outputs": [],
   "source": [
    "G[-1]"
   ]
  },
  {
   "cell_type": "code",
   "execution_count": null,
   "id": "8f21efeb",
   "metadata": {},
   "outputs": [],
   "source": [
    "G[1\n",
    " ]"
   ]
  },
  {
   "cell_type": "markdown",
   "id": "5e424273",
   "metadata": {},
   "source": [
    "isinstance() returns True, if the first argument is an instance of that clas. Multiple classes can also be checked at once"
   ]
  },
  {
   "cell_type": "code",
   "execution_count": null,
   "id": "0cf9d9e0",
   "metadata": {},
   "outputs": [],
   "source": [
    "print(isinstance(1,int))"
   ]
  },
  {
   "cell_type": "code",
   "execution_count": null,
   "id": "003dc839",
   "metadata": {},
   "outputs": [],
   "source": [
    "print(isinstance(1.0,int))"
   ]
  },
  {
   "cell_type": "code",
   "execution_count": null,
   "id": "2d40236a",
   "metadata": {},
   "outputs": [],
   "source": [
    "isinstance(23,int)"
   ]
  },
  {
   "cell_type": "code",
   "execution_count": null,
   "id": "d6fe4124",
   "metadata": {},
   "outputs": [],
   "source": [
    "isinstance(23.32,int)"
   ]
  },
  {
   "cell_type": "code",
   "execution_count": null,
   "id": "1a755728",
   "metadata": {},
   "outputs": [],
   "source": [
    "isinstance(23.32,float)"
   ]
  },
  {
   "cell_type": "code",
   "execution_count": null,
   "id": "e8a41cc7",
   "metadata": {},
   "outputs": [],
   "source": [
    "isinstance(23.32,(float,int))"
   ]
  },
  {
   "cell_type": "code",
   "execution_count": null,
   "id": "e3c2a05f",
   "metadata": {},
   "outputs": [],
   "source": [
    "isinstance(3+5j,(int,float,str))"
   ]
  },
  {
   "cell_type": "code",
   "execution_count": null,
   "id": "b39f5a27",
   "metadata": {},
   "outputs": [],
   "source": [
    "isinstance(3+5j,(complex))"
   ]
  },
  {
   "cell_type": "markdown",
   "id": "2f6facac",
   "metadata": {},
   "source": [
    "pow(x,y,z) X raise to the power of Y and remainder by Z"
   ]
  },
  {
   "cell_type": "code",
   "execution_count": null,
   "id": "cd82b7c0",
   "metadata": {},
   "outputs": [],
   "source": [
    "pow(4,4)"
   ]
  },
  {
   "cell_type": "code",
   "execution_count": null,
   "id": "9b9e13d9",
   "metadata": {},
   "outputs": [],
   "source": [
    "4**4"
   ]
  },
  {
   "cell_type": "code",
   "execution_count": null,
   "id": "b9509296",
   "metadata": {},
   "outputs": [],
   "source": [
    "pow(4,4,16)"
   ]
  },
  {
   "cell_type": "markdown",
   "id": "0280e60c",
   "metadata": {},
   "source": [
    "input()  = input(literallyanythingIwant)"
   ]
  },
  {
   "cell_type": "code",
   "execution_count": null,
   "id": "696abc53",
   "metadata": {
    "scrolled": true
   },
   "outputs": [],
   "source": [
    "x=input(\"With a few exceptions of course;\")"
   ]
  },
  {
   "cell_type": "code",
   "execution_count": null,
   "id": "5985f9bd",
   "metadata": {},
   "outputs": [],
   "source": [
    "type(x)"
   ]
  },
  {
   "cell_type": "code",
   "execution_count": null,
   "id": "a130abaa",
   "metadata": {},
   "outputs": [],
   "source": [
    "a = input(\"Enter a number:\")"
   ]
  },
  {
   "cell_type": "code",
   "execution_count": null,
   "id": "a59f9054",
   "metadata": {},
   "outputs": [],
   "source": [
    "type(a)"
   ]
  },
  {
   "cell_type": "code",
   "execution_count": null,
   "id": "230b48ed",
   "metadata": {},
   "outputs": [],
   "source": [
    "a = int(a)"
   ]
  },
  {
   "cell_type": "code",
   "execution_count": null,
   "id": "851d410b",
   "metadata": {},
   "outputs": [],
   "source": [
    "type(a)"
   ]
  },
  {
   "cell_type": "code",
   "execution_count": null,
   "id": "6a7f99d9",
   "metadata": {},
   "outputs": [],
   "source": [
    "print(a - 12)"
   ]
  },
  {
   "cell_type": "code",
   "execution_count": null,
   "id": "34ca0460",
   "metadata": {},
   "outputs": [],
   "source": [
    "a = float(input('Enter a real number :'))"
   ]
  },
  {
   "cell_type": "code",
   "execution_count": null,
   "id": "b08141bc",
   "metadata": {},
   "outputs": [],
   "source": [
    "type(a)"
   ]
  },
  {
   "cell_type": "code",
   "execution_count": null,
   "id": "399a6ba3",
   "metadata": {},
   "outputs": [],
   "source": [
    "b = float(input('Enter a real number:'))"
   ]
  },
  {
   "cell_type": "markdown",
   "id": "63d50f4d",
   "metadata": {},
   "source": [
    "This error occurred because there was no Try/Except clause put in place and there was no restrictions on input"
   ]
  },
  {
   "cell_type": "markdown",
   "id": "c2747df6",
   "metadata": {},
   "source": [
    "If you do not know how to use a function, type the function with a ? at the end instead of () and pass the argument. \n",
    "Additonally, there is also the help() function. "
   ]
  },
  {
   "cell_type": "code",
   "execution_count": null,
   "id": "5821b1cb",
   "metadata": {},
   "outputs": [],
   "source": [
    "find?"
   ]
  },
  {
   "cell_type": "code",
   "execution_count": null,
   "id": "10413bce",
   "metadata": {},
   "outputs": [],
   "source": [
    "float?"
   ]
  },
  {
   "cell_type": "code",
   "execution_count": null,
   "id": "619d30a1",
   "metadata": {},
   "outputs": [],
   "source": [
    "range?"
   ]
  },
  {
   "cell_type": "code",
   "execution_count": null,
   "id": "da8cfad9",
   "metadata": {},
   "outputs": [],
   "source": [
    "help"
   ]
  },
  {
   "cell_type": "code",
   "execution_count": null,
   "id": "0213345d",
   "metadata": {},
   "outputs": [],
   "source": [
    "help()"
   ]
  },
  {
   "cell_type": "markdown",
   "id": "1daf01d2",
   "metadata": {},
   "source": [
    "# Control Flow"
   ]
  },
  {
   "cell_type": "markdown",
   "id": "e41e852c",
   "metadata": {},
   "source": [
    "a = int(input())\n",
    "b = int(input())\n",
    "Task:\n",
    "    print only the bigger number"
   ]
  },
  {
   "cell_type": "code",
   "execution_count": null,
   "id": "58f530bc",
   "metadata": {},
   "outputs": [],
   "source": [
    "a = int(input())\n",
    "b = int(input())\n",
    "if a>b:\n",
    "    print(a)\n",
    "    print('Your stuck in an IF statement')\n",
    "print('You are out of the IF statement')"
   ]
  },
  {
   "cell_type": "markdown",
   "id": "18567cc3",
   "metadata": {},
   "source": [
    "Statements inside the IF statement only run if the condition becomes True"
   ]
  },
  {
   "cell_type": "code",
   "execution_count": null,
   "id": "97966c6b",
   "metadata": {},
   "outputs": [],
   "source": [
    "a = int(input())\n",
    "b = int(input())\n",
    "if a>b:\n",
    "    print(a)\n",
    "    print('A wins the day')\n",
    "if b>a:\n",
    "    print(b)\n",
    "    print('B comes home with the gold!')"
   ]
  },
  {
   "cell_type": "markdown",
   "id": "72df7b5a",
   "metadata": {},
   "source": [
    "# Control Flow with IF/ELSE "
   ]
  },
  {
   "cell_type": "code",
   "execution_count": null,
   "id": "507f2835",
   "metadata": {},
   "outputs": [],
   "source": [
    "a = int(input())\n",
    "b = int(input())\n",
    "if b>a:\n",
    "    print(b)\n",
    "    print('B is greater than A')\n",
    "else:\n",
    "    print(a)\n",
    "    print('A is greater than B')"
   ]
  },
  {
   "cell_type": "code",
   "execution_count": null,
   "id": "fd752e79",
   "metadata": {},
   "outputs": [],
   "source": [
    "a = float(input('Enter first number :'))\n",
    "b = float(input('Enter second number :'))\n",
    "if b>a:\n",
    "    print('B is greater than A')\n",
    "elif a==b:\n",
    "    print('A is equal to B')\n",
    "else:\n",
    "    print('A is greater than B')"
   ]
  },
  {
   "cell_type": "markdown",
   "id": "16eccf32",
   "metadata": {},
   "source": [
    "IF statements require a Boolean T/F argument behind it\n",
    "IF a==b:\n",
    "ELIF a!=b:"
   ]
  },
  {
   "cell_type": "code",
   "execution_count": null,
   "id": "4e1e2cce",
   "metadata": {},
   "outputs": [],
   "source": [
    "health = int(input('Hit Point Bar'))\n",
    "if health >= 85:\n",
    "    print('Healthy')\n",
    "elif (health < 85) and (health >= 80):\n",
    "    print('Dont be weak! Keep fighting!')\n",
    "elif (health < 80) and (health >= 75):\n",
    "    print('Somewhat healthy..')\n",
    "elif (health < 75) and (health >= 60):\n",
    "    print('Still above half!')\n",
    "elif (health < 60) and (health >= 50):\n",
    "    print('Be careful')\n",
    "elif (health < 50) and (health >= 10):\n",
    "    print('Definitely not healthy')\n",
    "elif (health < 10) and (health >=1):\n",
    "    print('Your crazy, ya know that?!')\n",
    "elif (health == 0):\n",
    "    print('You have begun a different journey')"
   ]
  },
  {
   "cell_type": "markdown",
   "id": "53524533",
   "metadata": {},
   "source": [
    "# Control Flow with Nested IF"
   ]
  },
  {
   "cell_type": "code",
   "execution_count": null,
   "id": "97be1898",
   "metadata": {},
   "outputs": [],
   "source": [
    "a = int(input())\n",
    "if a > 10:\n",
    "    print('>10')\n",
    "    print('Inside the top IF condition')\n",
    "    if a > 20:\n",
    "        print('>20')\n",
    "        print('Inside the nested IF condition')\n",
    "    else:\n",
    "        print('<=20')\n",
    "        print('Inside the ELSE part of nested IF')\n",
    "print('Outside all IF statements')"
   ]
  },
  {
   "cell_type": "code",
   "execution_count": null,
   "id": "79b1dbe5",
   "metadata": {},
   "outputs": [],
   "source": [
    "''' User will enter a floating point number of 348.843.\n",
    "Your task is to find out the integer portion before \n",
    "the point (in this case 348) and then check if that\n",
    "integer portion is an even number or not'''\n",
    "\n",
    "x = float(input('Enter a real number :'))\n",
    "y = round(x)\n",
    "if y>x:\n",
    "    intPortion = y-1\n",
    "else:\n",
    "    intPortion = y\n",
    "print(intPortion)"
   ]
  },
  {
   "cell_type": "code",
   "execution_count": null,
   "id": "6a8bb382",
   "metadata": {},
   "outputs": [],
   "source": [
    "x = float(input('Enter a real number :'))\n",
    "y = round(x)\n",
    "if x>0:\n",
    "    if y>x:\n",
    "        intPortion = y-1\n",
    "    else:\n",
    "        intPortion = y\n",
    "else:\n",
    "    if y<x:\n",
    "        intPortion = y+1\n",
    "    else:\n",
    "        intPortion = y\n",
    "print(intPortion)\n",
    "if intPortion%2 == 0:\n",
    "    print('Even')\n",
    "else:\n",
    "    print('Odd')"
   ]
  },
  {
   "cell_type": "markdown",
   "id": "cb3ed92a",
   "metadata": {},
   "source": [
    "# Control Flow with While Loops"
   ]
  },
  {
   "cell_type": "markdown",
   "id": "d9d0bcd9",
   "metadata": {},
   "source": [
    "As you can see, the for loop is used for a controlled flow of repetition. However, what if we don't know when we want to stop the loop? What if we want to keep executing a code block until a certain condition is met? The while loop exists as a tool for repeated execution based on a condition. The code block will keep being executed until the given logical condition returns a False boolean value."
   ]
  },
  {
   "cell_type": "code",
   "execution_count": null,
   "id": "bebc4d61",
   "metadata": {},
   "outputs": [],
   "source": [
    "n = int(input('Max Iterations :'))\n",
    "i = 1\n",
    "while(i<n):\n",
    "    print(i)\n",
    "    i += 1  #i=i+1\n",
    "print('done')"
   ]
  },
  {
   "cell_type": "code",
   "execution_count": null,
   "id": "c779d7f3",
   "metadata": {},
   "outputs": [],
   "source": [
    "n = int(input('Max iterations:'))\n",
    "i = 1\n",
    "while i < n:\n",
    "    if i%2 == 0:\n",
    "        print(i)\n",
    "    else:\n",
    "        pass  #do nothing/continue\n",
    "    i += 1\n",
    "print('done')"
   ]
  },
  {
   "cell_type": "code",
   "execution_count": null,
   "id": "3b415f0d",
   "metadata": {},
   "outputs": [],
   "source": [
    "n = 27\n",
    "i = 2 \n",
    "while True:\n",
    "    if i%9 == 0:\n",
    "        print('Inside IF')\n",
    "        break\n",
    "    else:\n",
    "        print('Inside Else')\n",
    "        i = i+1\n",
    "print('done')"
   ]
  },
  {
   "cell_type": "code",
   "execution_count": null,
   "id": "ba29f252",
   "metadata": {},
   "outputs": [],
   "source": [
    "n = 10\n",
    "i = 1\n",
    "while True:\n",
    "    if i%9 != 0:\n",
    "        print('Inside IF')\n",
    "        i += 1\n",
    "        continue\n",
    "    print('something')\n",
    "    print('somethingelse')\n",
    "    break\n",
    "        \n",
    "print('done')"
   ]
  },
  {
   "cell_type": "code",
   "execution_count": null,
   "id": "f19f480e",
   "metadata": {},
   "outputs": [],
   "source": [
    "# While Loop Example\n",
    "\n",
    "dates = [1982, 1980, 1973, 2000]\n",
    "\n",
    "i = 0\n",
    "year = dates[0]\n",
    "\n",
    "while(year != 1973):    \n",
    "    print(year)\n",
    "    i = i + 1\n",
    "    year = dates[i]\n",
    "    \n",
    "\n",
    "print(\"It took \", i ,\"repetitions to get out of loop.\")"
   ]
  },
  {
   "cell_type": "markdown",
   "id": "7f1f1771",
   "metadata": {},
   "source": [
    "Write a while loop to copy the strings <code>'orange'</code> of the list <code>squares</code> to the list <code>new_squares</code>. Stop and exit the loop if the value on the list is not <code>'orange'</code>:"
   ]
  },
  {
   "cell_type": "code",
   "execution_count": null,
   "id": "859bbf0c",
   "metadata": {},
   "outputs": [],
   "source": [
    "PlayListRatings = [10, 9.5, 10, 8, 7.5, 5, 10, 10]\n",
    "i = 0\n",
    "Rating = PlayListRatings[0]\n",
    "while(i < len(PlayListRatings) and Rating >= 6):\n",
    "    Rating = PlayListRatings[i]\n",
    "    print(Rating)\n",
    "    i = i + 1"
   ]
  },
  {
   "cell_type": "code",
   "execution_count": null,
   "id": "7a2ac627",
   "metadata": {},
   "outputs": [],
   "source": []
  },
  {
   "cell_type": "markdown",
   "id": "998fa373",
   "metadata": {},
   "source": [
    "# Control Flow with For Loop"
   ]
  },
  {
   "cell_type": "code",
   "execution_count": null,
   "id": "32868af2",
   "metadata": {},
   "outputs": [],
   "source": [
    "L = [] #an empty list waiting to be filled to variable 'x'\n",
    "for i in range(1,10,2): #(start at 'x', go to 'x',skip every 'x') )\n",
    "        print(i+1)\n",
    "        L.append(i**9)\n",
    "print(L)"
   ]
  },
  {
   "cell_type": "code",
   "execution_count": null,
   "id": "919303b9",
   "metadata": {},
   "outputs": [],
   "source": [
    "S = {'strawberrys', 12.9, 'blueberrys'} #set\n",
    "for x in S:\n",
    "    print(x)\n",
    "else:\n",
    "    print('Loop completes')"
   ]
  },
  {
   "cell_type": "code",
   "execution_count": null,
   "id": "4477c847",
   "metadata": {},
   "outputs": [],
   "source": [
    "type(S)"
   ]
  },
  {
   "cell_type": "code",
   "execution_count": null,
   "id": "11a7fcdf",
   "metadata": {},
   "outputs": [],
   "source": [
    "D = {'strawberrys':'awesome', 'light':'sound'}#Dictionary{'key:value'}\n",
    "for x in D:\n",
    "    print(x,D[x]) #print the key(x),as well as the value of that key D[x] "
   ]
  },
  {
   "cell_type": "code",
   "execution_count": null,
   "id": "cf3db366",
   "metadata": {
    "scrolled": true
   },
   "outputs": [],
   "source": [
    "type(D)"
   ]
  },
  {
   "cell_type": "code",
   "execution_count": null,
   "id": "e7a86524",
   "metadata": {},
   "outputs": [],
   "source": [
    "# For loop example\n",
    "\n",
    "dates = [1982,1980,1973]\n",
    "N = len(dates)\n",
    "\n",
    "for i in range(N):\n",
    "    print(dates[i])     "
   ]
  },
  {
   "cell_type": "code",
   "execution_count": null,
   "id": "8e34f667",
   "metadata": {},
   "outputs": [],
   "source": [
    "for i in range(0, 8):\n",
    "    print(i)"
   ]
  },
  {
   "cell_type": "code",
   "execution_count": null,
   "id": "77963582",
   "metadata": {},
   "outputs": [],
   "source": [
    "# Loop through the list and iterate on both index and element value\n",
    "\n",
    "squares=['red', 'yellow', 'green', 'purple', 'blue']\n",
    "\n",
    "for i, square in enumerate(squares):\n",
    "    print(i, square)"
   ]
  },
  {
   "cell_type": "markdown",
   "id": "3c1e69f3",
   "metadata": {},
   "source": [
    "# Control Flow practice "
   ]
  },
  {
   "cell_type": "markdown",
   "id": "3fa230c6",
   "metadata": {},
   "source": [
    "Given a list of numbers, [n], make another list that contains all the items from min to max. The result should be another list."
   ]
  },
  {
   "cell_type": "code",
   "execution_count": null,
   "id": "39658f82",
   "metadata": {},
   "outputs": [],
   "source": [
    "'''finding the minimum value from this list'''\n",
    "L = [234,5643,-2343,-45.234,89.67,89.54]\n",
    "\n",
    "m = L[0] #looking for the first value in the list\n",
    "for i in L: #as long as i is in L\n",
    "    if i<m: \n",
    "        m = i #'m' should contain 'i' if 'i' is smaller than 'm'\n",
    "            #otherwise, do nothing, and move to print value\n",
    "print(m)"
   ]
  },
  {
   "cell_type": "code",
   "execution_count": null,
   "id": "718303d7",
   "metadata": {},
   "outputs": [],
   "source": [
    "'''adding in an option to find the index and creating a counter'''\n",
    "L = [234,5643,-2343,-45.234,89.67,89.54]\n",
    "\n",
    "m = L[0] #looking for the first value in the list\n",
    "idx = 0 #index value is set to 0\n",
    "c = 0 #'c' is just a variable letter for a counter; also set to 0\n",
    "for i in L: #as long as i is in L\n",
    "    if i<m: \n",
    "        m = i #'m' should contain 'i' if 'i' is smaller than 'm'\n",
    "        idx = c #setting the index to 'c'\n",
    "    c+=1 #this is how the counter moves up in value\n",
    "print(idx,m) "
   ]
  },
  {
   "cell_type": "code",
   "execution_count": null,
   "id": "96ea299e",
   "metadata": {},
   "outputs": [],
   "source": [
    "'''now to swap the min value to the position starting with [0]'''\n",
    "L = [234,5643,-2343,-45.234,89.67,89.54]\n",
    "\n",
    "m = L[0] #looking for the first value in the list\n",
    "idx = 0 #index value is set to 0\n",
    "c = 0 #'c' is just a variable letter for a counter; also set to 0\n",
    "for i in L: #as long as i is in L\n",
    "    if i<m: \n",
    "        m = i #'m' should contain 'i' if 'i' is smaller than 'm'\n",
    "        idx = c #setting the index to 'c'\n",
    "    c+=1 #this is how the counter moves up in value\n",
    "tmp = L[0] #swap with [0] and assign it to a temp variable\n",
    "L[0] = m #at list [0], write min value\n",
    "L[idx] = tmp #from the point of min value, place min at beginning\n",
    "print(L)"
   ]
  },
  {
   "cell_type": "code",
   "execution_count": null,
   "id": "261b88b2",
   "metadata": {},
   "outputs": [],
   "source": [
    "'''We want an ordered list, so this will require another for loop'''\n",
    "L = [234,5643,-2343,-45.234,89.67,89.54]\n",
    "\n",
    "for j in range(len(L)):\n",
    "    m = L[j] #looking for the first value in the list, now set to 'j'\n",
    "    idx = j #index value is set to 'j'\n",
    "    c = j #'c' is just a variable letter for a counter; also set to 'j'\n",
    "    for i in range(j,len(L)): \n",
    "        if L[i]<m: \n",
    "            m = L[i] #'m' should contain L[i] if 'i' is smaller than 'm'\n",
    "            idx = c #setting the index to 'c'\n",
    "        c+=1 #this is how the counter moves up in value\n",
    "    tmp = L[j] #swap with [j] and assign it to a temp variable\n",
    "    L[j] = m #at list [j], write min value\n",
    "    L[idx] = tmp #from the point of min value, place min at beginning\n",
    "print(L)"
   ]
  },
  {
   "cell_type": "markdown",
   "id": "3d79d6aa",
   "metadata": {},
   "source": [
    "Changing 0 to 'j' in the last example was the same as saying, at the jth value, run this code. This way, we can run the entire L[] to get the desired output. \n",
    "\n",
    "There are functions that are defined to find minimum list values and sort them, this is just practice on problem solving. "
   ]
  },
  {
   "cell_type": "markdown",
   "id": "2c795515",
   "metadata": {},
   "source": [
    "# Defining Functions"
   ]
  },
  {
   "cell_type": "code",
   "execution_count": null,
   "id": "15cc2756",
   "metadata": {},
   "outputs": [],
   "source": [
    "def printSuccess():\n",
    "    '''which can be defined by your own particular needs'''\n",
    "    print('Owning your own home')\n",
    "    print('Having a fulfilling life')\n",
    "    print('Taking the time to enjoy it!')\n",
    "print(printSuccess())"
   ]
  },
  {
   "cell_type": "code",
   "execution_count": null,
   "id": "1274d80c",
   "metadata": {},
   "outputs": [],
   "source": [
    "printSuccess? #this will show the Docstring in the def statement"
   ]
  },
  {
   "cell_type": "code",
   "execution_count": null,
   "id": "ed047f2e",
   "metadata": {},
   "outputs": [],
   "source": [
    "printSuccess?? #pulls the whole implementation of the code"
   ]
  },
  {
   "cell_type": "code",
   "execution_count": null,
   "id": "b79f7f84",
   "metadata": {},
   "outputs": [],
   "source": [
    "help(printSuccess)"
   ]
  },
  {
   "cell_type": "markdown",
   "id": "2d4920b9",
   "metadata": {},
   "source": [
    "The point is, once you define a function it can be called anytime and you can find out what it does through these help statements as well even if it is your own function."
   ]
  },
  {
   "cell_type": "markdown",
   "id": "9e0a6a4b",
   "metadata": {},
   "source": [
    "# Function with single input argument"
   ]
  },
  {
   "cell_type": "code",
   "execution_count": null,
   "id": "50923e17",
   "metadata": {},
   "outputs": [],
   "source": [
    "def printError(msg):\n",
    "    '''the function prints the string given by the\n",
    "    user or else it prints an error message'''\n",
    "    if isinstance(msg,str): #makes msg words only\n",
    "        print(msg)\n",
    "    else: #if you enter a number you get this\n",
    "        print('No, really enter words not numbers...')\n",
    "        print('You told me,',type(msg))"
   ]
  },
  {
   "cell_type": "code",
   "execution_count": null,
   "id": "c14aac57",
   "metadata": {},
   "outputs": [],
   "source": [
    "help(printError)"
   ]
  },
  {
   "cell_type": "code",
   "execution_count": null,
   "id": "63fea581",
   "metadata": {},
   "outputs": [],
   "source": [
    "printError?"
   ]
  },
  {
   "cell_type": "code",
   "execution_count": null,
   "id": "2a1dde49",
   "metadata": {},
   "outputs": [],
   "source": [
    "printError(1)"
   ]
  },
  {
   "cell_type": "code",
   "execution_count": null,
   "id": "361bbbb1",
   "metadata": {},
   "outputs": [],
   "source": [
    "printError('What did you do!!?')"
   ]
  },
  {
   "cell_type": "markdown",
   "id": "2846a20b",
   "metadata": {},
   "source": [
    "# Function with multiple input arguments"
   ]
  },
  {
   "cell_type": "code",
   "execution_count": null,
   "id": "71eb250f",
   "metadata": {},
   "outputs": [],
   "source": [
    "def checkArgs(a,b,c,d,e):\n",
    "    if isinstance(a,(int,float)) and isinstance(b,(int,float)) and isinstance(c,(int,float)) and isinstance(d,(int,float)) and isinstance(e,(int,float)):\n",
    "        print((a+b+c-(d*e)))\n",
    "    else:\n",
    "        print('Numbers only please!')"
   ]
  },
  {
   "cell_type": "code",
   "execution_count": null,
   "id": "19125e75",
   "metadata": {},
   "outputs": [],
   "source": [
    "checkArgs(12,45.34,-2.5342,2,19.76)"
   ]
  },
  {
   "cell_type": "markdown",
   "id": "a00c59ee",
   "metadata": {},
   "source": [
    "Be sure to enter all arguments, or create TRY/EXCEPT statements to reduce errors"
   ]
  },
  {
   "cell_type": "code",
   "execution_count": null,
   "id": "972f1c93",
   "metadata": {},
   "outputs": [],
   "source": [
    "checkArgs(12,14)"
   ]
  },
  {
   "cell_type": "code",
   "execution_count": null,
   "id": "475172a1",
   "metadata": {},
   "outputs": [],
   "source": [
    "checkArgs(1,2,'th-rree','youll never get to the center that way','then how wise old owl?')"
   ]
  },
  {
   "cell_type": "markdown",
   "id": "d70a5e63",
   "metadata": {},
   "source": [
    "# Functions Order of input arguments"
   ]
  },
  {
   "cell_type": "markdown",
   "id": "8ae5a9ea",
   "metadata": {},
   "source": [
    "def f(c2,c1,c3):\n",
    "    print(c1,c2,c3)\n",
    "print(f)"
   ]
  },
  {
   "cell_type": "markdown",
   "id": "2f20391c",
   "metadata": {},
   "source": [
    "The order in the function is different than in the print function underneath. "
   ]
  },
  {
   "cell_type": "code",
   "execution_count": null,
   "id": "ff68a442",
   "metadata": {},
   "outputs": [],
   "source": [
    "type(f)"
   ]
  },
  {
   "cell_type": "code",
   "execution_count": null,
   "id": "32638d80",
   "metadata": {},
   "outputs": [],
   "source": [
    "id(f)"
   ]
  },
  {
   "cell_type": "code",
   "execution_count": null,
   "id": "e96a544d",
   "metadata": {},
   "outputs": [],
   "source": [
    "def f(b,a,c):\n",
    "    print('A is :',a)\n",
    "    print('B is :',b)\n",
    "    print('C is :',c)"
   ]
  },
  {
   "cell_type": "code",
   "execution_count": null,
   "id": "37d379a6",
   "metadata": {},
   "outputs": [],
   "source": [
    "f('I didnt', 'I didnt do it','Oh, hi Mark')"
   ]
  },
  {
   "cell_type": "code",
   "execution_count": null,
   "id": "4705fd6f",
   "metadata": {},
   "outputs": [],
   "source": [
    "f(b = 'I didnt', a = 'I didnt do it', c = 'Oh, hi Mark')"
   ]
  },
  {
   "cell_type": "markdown",
   "id": "2426ac7f",
   "metadata": {},
   "source": [
    "# Functions with Variables inside"
   ]
  },
  {
   "cell_type": "code",
   "execution_count": null,
   "id": "bdb8a0fb",
   "metadata": {},
   "outputs": [],
   "source": [
    "x = 2\n",
    "y = 5\n",
    "def add(x,y):\n",
    "    c= x+y\n",
    "    print(c)"
   ]
  },
  {
   "cell_type": "code",
   "execution_count": null,
   "id": "0e45c5a8",
   "metadata": {
    "scrolled": true
   },
   "outputs": [],
   "source": [
    "add(2,6)"
   ]
  },
  {
   "cell_type": "code",
   "execution_count": null,
   "id": "79bd7500",
   "metadata": {},
   "outputs": [],
   "source": [
    "add(x,y)"
   ]
  },
  {
   "cell_type": "markdown",
   "id": "81e2d320",
   "metadata": {},
   "source": [
    "Variables that are called before the function is defined are accessible for a function to use. \n",
    "Variables that are called inside a function or after a function has been defined are not allowed. \n",
    "Once the function executes, all local variables, (variables created inisde the defined function) are destroyed. This is why calling 'c' will return whatever I assigned it to in my %whos list. "
   ]
  },
  {
   "cell_type": "code",
   "execution_count": null,
   "id": "e7a97dd5",
   "metadata": {},
   "outputs": [],
   "source": [
    "print(c)"
   ]
  },
  {
   "cell_type": "markdown",
   "id": "f4c099ed",
   "metadata": {},
   "source": [
    "# Global Scope vs. Local Scope"
   ]
  },
  {
   "cell_type": "markdown",
   "id": "5a52c29a",
   "metadata": {},
   "source": [
    "https://www.youtube.com/watch?v=M-CoVBK_bLE&list=PL0-84-yl1fUnRuXGFe_F7qSH1LEnn9LkW&index=10"
   ]
  },
  {
   "cell_type": "markdown",
   "id": "e3a17f51",
   "metadata": {},
   "source": [
    "1. Code in the global scope cannot use any local variables.\n",
    "2. Code in a local scope can access global variables.\n",
    "3. Code in one function's local scope cannot use variables in another local scope.\n",
    "4. Code in one function's local scope cannot use variables in any other local scope."
   ]
  },
  {
   "cell_type": "code",
   "execution_count": null,
   "id": "37df3443",
   "metadata": {},
   "outputs": [],
   "source": [
    "#1\n",
    "def spam():\n",
    "    eggs = 99\n",
    "\n",
    "spam()\n",
    "print(eggs)"
   ]
  },
  {
   "cell_type": "markdown",
   "id": "fbbe327f",
   "metadata": {},
   "source": [
    "The error is because the 'eggs' variable was called during the function call, then destroyed. 'eggs' was then called to print, but since it no longer exists, an error occurs."
   ]
  },
  {
   "cell_type": "code",
   "execution_count": null,
   "id": "f4c7700f",
   "metadata": {},
   "outputs": [],
   "source": [
    "#2\n",
    "def spam():\n",
    "    eggs = 99\n",
    "    bacon()\n",
    "    print(eggs)\n",
    "\n",
    "def bacon():\n",
    "    ham = 101\n",
    "    eggs = 0\n",
    "    \n",
    "spam()"
   ]
  },
  {
   "cell_type": "markdown",
   "id": "d3ab40ea",
   "metadata": {},
   "source": [
    "Spam() is called, a local variable, 'eggs' is given a local scope value of 99. bacon() is then called from spam(). Two local scopes now exist, one for spam(), and one for bacon(). 'ham' is given a local scope value of 101, and 'eggs'; 0. There are now two 'eggs' variables in two separate local scopes. Each are different. Since we are now at the end of the bacon() function, we return to the print(eggs) section in spam(). Since bacon() is now done being used, 'ham';101, and 'eggs';0 are destroyed. We now have one variable named 'eggs' and one local scope value of 99."
   ]
  },
  {
   "cell_type": "markdown",
   "id": "f71ba0b4",
   "metadata": {},
   "source": [
    "https://pythontutor.com/visualize.html#mode=display"
   ]
  },
  {
   "cell_type": "code",
   "execution_count": null,
   "id": "0b6de939",
   "metadata": {},
   "outputs": [],
   "source": [
    "#3\n",
    "def spam():\n",
    "    print(eggs)\n",
    "\n",
    "eggs = 42   #global\n",
    "spam()"
   ]
  },
  {
   "cell_type": "markdown",
   "id": "a36976be",
   "metadata": {},
   "source": [
    "Assignment statements = Local variable\n",
    "No assignment statement = Global variable"
   ]
  },
  {
   "cell_type": "code",
   "execution_count": null,
   "id": "7f618396",
   "metadata": {},
   "outputs": [],
   "source": [
    "def spam():\n",
    "    eggs = 'Hello' #local\n",
    "    print(eggs)\n",
    "\n",
    "eggs = 42   #global\n",
    "spam()\n",
    "print(eggs)"
   ]
  },
  {
   "cell_type": "markdown",
   "id": "65f9f4d8",
   "metadata": {},
   "source": [
    "Making a variable global"
   ]
  },
  {
   "cell_type": "code",
   "execution_count": null,
   "id": "856db808",
   "metadata": {},
   "outputs": [],
   "source": [
    "def spam():\n",
    "    global eggs\n",
    "    eggs = 'Hello' #local\n",
    "    print(eggs)\n",
    "\n",
    "eggs = 42   #global\n",
    "spam()\n",
    "print(eggs)"
   ]
  },
  {
   "cell_type": "markdown",
   "id": "de0f6963",
   "metadata": {},
   "source": [
    "This is useful to know where a bug is effecting a program you are writing. \n",
    "A scope can be thought of as an area outside of the source code, and as a container of variables. \n",
    "The global scope is a code outside of all functions. Variables assigned here are local variables.\n",
    "Code in the global scope cannot use any local variables.\n",
    "Code in a functions local scope cannot use variables in any other functions local scope. \n",
    "If there is an assignment statement for a variable in a function, that is a local variable."
   ]
  },
  {
   "cell_type": "markdown",
   "id": "dc89dc61",
   "metadata": {},
   "source": [
    "Sweigart, Al. \"Automate the Boring Stuff with Python\" \n",
    "https://automatetheboringstuff.com/#toc"
   ]
  },
  {
   "cell_type": "markdown",
   "id": "a040e28e",
   "metadata": {},
   "source": [
    "# Functions with Return statements"
   ]
  },
  {
   "cell_type": "code",
   "execution_count": null,
   "id": "8143fe15",
   "metadata": {},
   "outputs": [],
   "source": [
    "def myadd(a,b):\n",
    "    sumValue = a+b"
   ]
  },
  {
   "cell_type": "code",
   "execution_count": null,
   "id": "8d2a3fb0",
   "metadata": {},
   "outputs": [],
   "source": [
    "myadd(2,3)\n",
    "print(sumValue)"
   ]
  },
  {
   "cell_type": "markdown",
   "id": "797e9790",
   "metadata": {},
   "source": [
    "I want to access the variable I make with this function, 'sumValue', outside of the defined function, but I cant because 'sumValue' exists only in a local scope for the defined function. "
   ]
  },
  {
   "cell_type": "code",
   "execution_count": null,
   "id": "d5caf6ee",
   "metadata": {},
   "outputs": [],
   "source": [
    "def myadd(a,b):\n",
    "    sumValue = a+b\n",
    "    return sumValue"
   ]
  },
  {
   "cell_type": "code",
   "execution_count": null,
   "id": "acbb61be",
   "metadata": {},
   "outputs": [],
   "source": [
    "d = myadd(2,3)\n",
    "print(d)"
   ]
  },
  {
   "cell_type": "markdown",
   "id": "cb83b3a1",
   "metadata": {},
   "source": [
    "I had to set 'myadd' to a variable 'd', then print that variable, which is now set as 'd', and now I can access my output value from the function I have defined."
   ]
  },
  {
   "cell_type": "markdown",
   "id": "03e61a75",
   "metadata": {},
   "source": [
    "# None and return"
   ]
  },
  {
   "cell_type": "code",
   "execution_count": null,
   "id": "af33dd90",
   "metadata": {},
   "outputs": [],
   "source": [
    "def h():\n",
    "    print('A')\n",
    "    a = 3\n",
    "    b = 4\n",
    "    c = a+b\n",
    "    print('Done?')\n",
    "    return  #just exit the function right away\n",
    "    print('B')\n",
    "    print('C')"
   ]
  },
  {
   "cell_type": "code",
   "execution_count": null,
   "id": "f77d0e7f",
   "metadata": {},
   "outputs": [],
   "source": [
    "h()"
   ]
  },
  {
   "cell_type": "code",
   "execution_count": null,
   "id": "16ef5b4c",
   "metadata": {},
   "outputs": [],
   "source": [
    "print(h())"
   ]
  },
  {
   "cell_type": "code",
   "execution_count": null,
   "id": "8d02963a",
   "metadata": {},
   "outputs": [],
   "source": [
    "type(print(h))"
   ]
  },
  {
   "cell_type": "markdown",
   "id": "73d82885",
   "metadata": {},
   "source": [
    "A 'NoneType' is just a line that prints that has no value inside it. Since it cant be blank, the value given is 'None'."
   ]
  },
  {
   "cell_type": "code",
   "execution_count": null,
   "id": "073e4bd7",
   "metadata": {},
   "outputs": [],
   "source": [
    "def r():\n",
    "    a = 5,'days'\n",
    "    b = 'hour 6'\n",
    "    d = '= real world benefits'\n",
    "    return a,b,d"
   ]
  },
  {
   "cell_type": "code",
   "execution_count": null,
   "id": "5227cb4f",
   "metadata": {},
   "outputs": [],
   "source": [
    "r()"
   ]
  },
  {
   "cell_type": "markdown",
   "id": "815b85aa",
   "metadata": {},
   "source": [
    "Example 1: 'return' statements without a call to a variable return 'none'types.\n",
    "Example 1: 'return' statements can be used to exit the function like a 'break' statement \n",
    "Example 2: 'return' statements are used to return particular values in  a sequence. "
   ]
  },
  {
   "cell_type": "code",
   "execution_count": null,
   "id": "24adf7ce",
   "metadata": {},
   "outputs": [],
   "source": [
    "x,y,z = r()\n",
    "print(x,y,z)"
   ]
  },
  {
   "cell_type": "markdown",
   "id": "84e4d655",
   "metadata": {},
   "source": [
    "# Functions with a variable number of input arguments"
   ]
  },
  {
   "cell_type": "markdown",
   "id": "568195cb",
   "metadata": {},
   "source": [
    "def add(*args): '''this will allow you to pass any number \n",
    "of arguments to a list where 'args' is just a variable, and index them in order of placement.''' "
   ]
  },
  {
   "cell_type": "code",
   "execution_count": null,
   "id": "9e0fe0fd",
   "metadata": {},
   "outputs": [],
   "source": [
    "def myAddUniversal(*args):\n",
    "    s = 0\n",
    "    for i in range(len(args)):\n",
    "        s += args[i] # s = s+args[i]\n",
    "    return s"
   ]
  },
  {
   "cell_type": "code",
   "execution_count": null,
   "id": "39316284",
   "metadata": {},
   "outputs": [],
   "source": [
    "print(myAddUniversal(2,3))"
   ]
  },
  {
   "cell_type": "code",
   "execution_count": null,
   "id": "8e932524",
   "metadata": {},
   "outputs": [],
   "source": [
    "print(myAddUniversal(2,45,6,3,254.34))"
   ]
  },
  {
   "cell_type": "markdown",
   "id": "ca9d937f",
   "metadata": {},
   "source": [
    "def f(**c): '''this helps you find the key/value pair list, dictionarys, in any size list you have. You can use it to check content, and process based on these ideas."
   ]
  },
  {
   "cell_type": "code",
   "execution_count": null,
   "id": "882d2046",
   "metadata": {},
   "outputs": [],
   "source": [
    "def printAllVaraibleNamesAndValues(**args):\n",
    "    for x in args:\n",
    "        print('Variable Name is :', x,' And Value is :', args[x])"
   ]
  },
  {
   "cell_type": "code",
   "execution_count": null,
   "id": "4c4a9c41",
   "metadata": {},
   "outputs": [],
   "source": [
    "printAllVaraibleNamesAndValues(a = 4, b = 'B', c = '34.34', d = 'ba;lkeru', e = 'Any size list at all...')"
   ]
  },
  {
   "cell_type": "markdown",
   "id": "0adf0c0a",
   "metadata": {},
   "source": [
    "# Functions with Default values"
   ]
  },
  {
   "cell_type": "markdown",
   "id": "93fd818e",
   "metadata": {},
   "source": [
    "def f(sum = 0):\n",
    "    print(sum)\n",
    "    \n",
    "If you try to execute f(3), the sum that will print will be 3, but if you execute a f(), the sum that is set as the default in the program, in this case 0, is what will return. "
   ]
  },
  {
   "cell_type": "code",
   "execution_count": null,
   "id": "c669cf3f",
   "metadata": {},
   "outputs": [],
   "source": [
    "def ff(s = 4):\n",
    "    print(s)"
   ]
  },
  {
   "cell_type": "code",
   "execution_count": null,
   "id": "65ce4dca",
   "metadata": {},
   "outputs": [],
   "source": [
    "ff()"
   ]
  },
  {
   "cell_type": "code",
   "execution_count": null,
   "id": "56d18b42",
   "metadata": {},
   "outputs": [],
   "source": [
    "ff(2)"
   ]
  },
  {
   "cell_type": "code",
   "execution_count": null,
   "id": "7fe1b4ca",
   "metadata": {},
   "outputs": [],
   "source": [
    "L = [1,2,3]\n",
    "L2 = L\n",
    "L2[0] = -3\n",
    "print(L)"
   ]
  },
  {
   "cell_type": "code",
   "execution_count": null,
   "id": "3e90217f",
   "metadata": {},
   "outputs": [],
   "source": [
    "def ff(L = [1,2]):\n",
    "    for i in L:\n",
    "        print(i)"
   ]
  },
  {
   "cell_type": "code",
   "execution_count": null,
   "id": "256c4864",
   "metadata": {},
   "outputs": [],
   "source": [
    "L2 = [12,2,3]\n",
    "ff()"
   ]
  },
  {
   "cell_type": "code",
   "execution_count": null,
   "id": "d17fe655",
   "metadata": {},
   "outputs": [],
   "source": [
    "ff(L2)"
   ]
  },
  {
   "cell_type": "code",
   "execution_count": 26,
   "id": "26d52be7",
   "metadata": {},
   "outputs": [
    {
     "ename": "SyntaxError",
     "evalue": "invalid syntax (Temp/ipykernel_260/3748941550.py, line 3)",
     "output_type": "error",
     "traceback": [
      "\u001b[1;36m  File \u001b[1;32m\"C:\\Users\\burne\\AppData\\Local\\Temp/ipykernel_260/3748941550.py\"\u001b[1;36m, line \u001b[1;32m3\u001b[0m\n\u001b[1;33m    self.height=height self.width=width self.color=color def drawRectangle(self):\u001b[0m\n\u001b[1;37m                       ^\u001b[0m\n\u001b[1;31mSyntaxError\u001b[0m\u001b[1;31m:\u001b[0m invalid syntax\n"
     ]
    }
   ],
   "source": []
  },
  {
   "cell_type": "markdown",
   "id": "3019a5a7",
   "metadata": {},
   "source": [
    "# Modules/Packages, import statements, and reading .txt files"
   ]
  },
  {
   "cell_type": "markdown",
   "id": "11843679",
   "metadata": {},
   "source": [
    "### Reading .txt files\n",
    "variable = open(file path,'r'/'w'/'a')  'read'/'write'/'append'                                                                 \n",
    "variable.name # shows the file path                                                                                             \n",
    "variable.mode # shows the r/w/a..                                                                                               \n",
    "varible.close() # shut it down lol                                                                                             \n",
    "with statement will run everything in the code and shut it down automatically.                                                 \n",
    "ex.                                                                                                                             \n",
    "with open(file path, 'r') as variable:                                                                                         \n",
    "    variable.read()                                                                                                             \n",
    "    print this                                                                                                                 \n",
    "    print that                                                                                                                 \n",
    "    do this                                                                                                                     \n",
    "print ('file closed')\n",
    "variable.closed # will give a T/F statement to check on if file is closed or not                                                  \n",
    "print(variable.read(int)) # will print out the number of int requested in a print file                                         \n",
    "print(variable.read(int)) # will print out the NEXT set of int values requested in a print file                                 \n",
    "print('first line' + variable.readline()) # this prints out one line at a time in a file    \n",
    "print('first line' + variable.readline(int)) # prints out a set number of int values for the line. will not exceed line length \n"
   ]
  },
  {
   "cell_type": "markdown",
   "id": "ace088ec",
   "metadata": {},
   "source": [
    "### using a loop to iterate through .readline()                                                                                                                       \n",
    "with open(file path,\"mode\") as variable:                                                                                               i = 0;                                                                                                                 \n",
    "        for line in variable:                                                                                                  \n",
    "            print(\"Iteration\", str(i), \": \", line)                                                                             \n",
    "            i = i + 1                                                                                                           "
   ]
  },
  {
   "cell_type": "markdown",
   "id": "2ee2437b",
   "metadata": {},
   "source": [
    "### Read all lines and save as a list                                                                                                                                        \n",
    "\n",
    "with open(file path, \"mode\") as variable:                                                                                       \n",
    "    variable1 = varable.readlines()                                                                                                                                                                                                                             \n",
    "variable1[0/1/2/...] #prints out the individual list"
   ]
  },
  {
   "cell_type": "markdown",
   "id": "2ae50ea9",
   "metadata": {},
   "source": [
    "### Writing files as open                                                                                                                                                           \n",
    "The write mode, 'w', is used to overwrite files in your file path. You can always created a secondary/backup file to write to in order to preserve the original copy.                                                                                         \n",
    "variable.write('whatever')                                                                                                      Write mode can be used to add Lists using for loops as well.                                                                    L= [1,2,3..]                                                                                                                    with open(file path,'w') as variable:                                                                                           \n",
    "    for line in L:                                                                                                             \n",
    "    variable.write(line)                                                                                                       \n",
    "The append mode, 'a', is used to append to the end of your file that exists.                                                  "
   ]
  },
  {
   "cell_type": "markdown",
   "id": "c7ee4520",
   "metadata": {},
   "source": [
    "## Additional modes\n",
    "It is not an effecient process to open the files in **a** or **w** and then reopening it in **r** to read any lines. \n",
    "\n",
    "*   **r+** : Reading and writing. Cannot truncate the file.\n",
    "*   **w+** : Writing and reading. Truncates the file.\n",
    "*   **a+** : Appending and Reading. Creates a new file, if none exists."
   ]
  },
  {
   "cell_type": "markdown",
   "id": "3599a4b5",
   "metadata": {},
   "source": [
    "Let's try out the **a+** mode:"
   ]
  },
  {
   "cell_type": "code",
   "execution_count": null,
   "id": "e39d5fe9",
   "metadata": {},
   "outputs": [],
   "source": [
    "with open('file path', 'a+') as variable:\n",
    "    varaible.write(\"This is line E\\n\")\n",
    "    print(variable.read())"
   ]
  },
  {
   "cell_type": "markdown",
   "id": "b7829a76",
   "metadata": {},
   "source": [
    "Opening the file in **w** is akin to opening the .txt file, moving your cursor to the beginning of the text file, writing new text and deleting everything that follows.\n",
    "Whereas opening the file in **a** is similiar to opening the .txt file, moving your cursor to the very end and then adding the new pieces of text. <br>\n",
    "It is often very useful to know where the 'cursor' is in a file and be able to control it. The following methods allow us to do precisely this -\n",
    "\n",
    "*   <code>.tell()</code> - returns the current position in bytes\n",
    "*   <code>.seek(offset,from)</code> - changes the position by 'offset' bytes with respect to 'from'. From can take the value of 0,1,2 corresponding to beginning, relative to current position and end\n"
   ]
  },
  {
   "cell_type": "code",
   "execution_count": null,
   "id": "5d9b62f6",
   "metadata": {},
   "outputs": [],
   "source": [
    "with open('Example2.txt', 'a+') as testwritefile:\n",
    "    print(\"Initial Location: {}\".format(testwritefile.tell()))\n",
    "    \n",
    "    data = testwritefile.read()\n",
    "    if (not data):  #empty strings return false in python\n",
    "            print('Read nothing') \n",
    "    else: \n",
    "            print(testwritefile.read())\n",
    "            \n",
    "    testwritefile.seek(0,0) # move 0 bytes from beginning.\n",
    "    \n",
    "    print(\"\\nNew Location : {}\".format(testwritefile.tell()))\n",
    "    data = testwritefile.read()\n",
    "    if (not data): \n",
    "            print('Read nothing') \n",
    "    else: \n",
    "            print(data)\n",
    "    \n",
    "    print(\"Location after read: {}\".format(testwritefile.tell()) )"
   ]
  },
  {
   "cell_type": "markdown",
   "id": "197165fa",
   "metadata": {},
   "source": [
    "Finally, a note on the difference between **w+** and **r+**. Both of these modes allow access to read and write methods, however, opening a file in **w+** overwrites it and deletes all pre-existing data. <br>\n",
    "To work with a file on existing data, use **r+** and **a+**. While using **r+**, it can be useful to add a <code>.truncate()</code> method at the end of your data. This will reduce the file to your data and delete everything that follows. <br>\n",
    "In the following code block, Run the code as it is first and then run it with the <code>.truncate()</code>."
   ]
  },
  {
   "cell_type": "code",
   "execution_count": null,
   "id": "326cb0f4",
   "metadata": {},
   "outputs": [],
   "source": [
    "with open('Example2.txt', 'r+') as testwritefile:\n",
    "    data = testwritefile.readlines()\n",
    "    testwritefile.seek(0,0) #write at beginning of file\n",
    "   \n",
    "    testwritefile.write(\"Line 1\" + \"\\n\")\n",
    "    testwritefile.write(\"Line 2\" + \"\\n\")\n",
    "    testwritefile.write(\"Line 3\" + \"\\n\")\n",
    "    testwritefile.write(\"finished\\n\")\n",
    "    #Uncomment the line below\n",
    "    #testwritefile.truncate()\n",
    "    testwritefile.seek(0,0)\n",
    "    print(testwritefile.read())"
   ]
  },
  {
   "cell_type": "markdown",
   "id": "12dc3830",
   "metadata": {},
   "source": [
    "### Copying Files"
   ]
  },
  {
   "cell_type": "code",
   "execution_count": null,
   "id": "ae22233a",
   "metadata": {},
   "outputs": [],
   "source": [
    "# Copy file to another\n",
    "\n",
    "with open('Example2.txt','r') as readfile:\n",
    "    with open('Example3.txt','w') as writefile:\n",
    "          for line in readfile:\n",
    "                writefile.write(line)"
   ]
  },
  {
   "cell_type": "code",
   "execution_count": null,
   "id": "c306bcad",
   "metadata": {},
   "outputs": [],
   "source": [
    "# Verify if the copy is successfully executed\n",
    "\n",
    "with open('Example3.txt','r') as testwritefile:\n",
    "    print(testwritefile.read())"
   ]
  },
  {
   "cell_type": "markdown",
   "id": "d290a89f",
   "metadata": {},
   "source": [
    "After reading files, we can also write data into files and save them in different file formats like **.txt, .csv, .xls (for excel files) etc**"
   ]
  },
  {
   "cell_type": "markdown",
   "id": "b0641d27",
   "metadata": {},
   "source": [
    "How to find functions that you have written and put them into new code. Modules are used to keep functions that you have written in a handy location. If you always need a particular set of functions, just 'import' the file, and they will all be there. These statements should be made at the begining of your code."
   ]
  },
  {
   "cell_type": "markdown",
   "id": "52897bb0",
   "metadata": {},
   "source": [
    "import 'module'                                                                                                                 \n",
    "import sys, time, ...                                                                                                           \n",
    "or..                                                                                                                           \n",
    "import sys                                                                                                                    \n",
    "import time                                                                                                                     import ...     "
   ]
  },
  {
   "cell_type": "markdown",
   "id": "9ee9ca10",
   "metadata": {},
   "source": [
    "### importing your own code..                                                                                                   \n",
    "                                                                                                                               \n",
    "import 'your code'                                                                                                             \n",
    "sys.path.append('File path')                                                                                                   \n",
    "'Flow control statements'                                                                                                       "
   ]
  },
  {
   "cell_type": "markdown",
   "id": "52d997e1",
   "metadata": {},
   "source": [
    "You save your code as a .py and put the file inside any folder in your drive, and just call it as an argment."
   ]
  },
  {
   "cell_type": "code",
   "execution_count": null,
   "id": "3da0b5f5",
   "metadata": {},
   "outputs": [],
   "source": [
    "import sys\n",
    "sys.path.append('C:\\Python code Modules')"
   ]
  },
  {
   "cell_type": "code",
   "execution_count": null,
   "id": "214f48dc",
   "metadata": {},
   "outputs": [],
   "source": [
    "import Lukes_cool_code"
   ]
  },
  {
   "cell_type": "markdown",
   "id": "cb9fd470",
   "metadata": {},
   "source": [
    "This creates a local folder called _pycache_ in my folder "
   ]
  },
  {
   "cell_type": "code",
   "execution_count": null,
   "id": "a51e595b",
   "metadata": {},
   "outputs": [],
   "source": [
    "import Lukes_cool_code as Luk"
   ]
  },
  {
   "cell_type": "markdown",
   "id": "d0e71f5c",
   "metadata": {},
   "source": [
    "I like this import .. as.. statement. It is very personal. I can now call any code from this module as Luk.'function', or rather, 'variable'.'function'"
   ]
  },
  {
   "cell_type": "code",
   "execution_count": null,
   "id": "b54961ec",
   "metadata": {},
   "outputs": [],
   "source": [
    "Luk.addAllNumerics()"
   ]
  },
  {
   "cell_type": "code",
   "execution_count": null,
   "id": "f1298404",
   "metadata": {},
   "outputs": [],
   "source": [
    "Luk.addAllNumerics(3,4,123,.23)"
   ]
  },
  {
   "cell_type": "code",
   "execution_count": null,
   "id": "5d46427c",
   "metadata": {},
   "outputs": [],
   "source": [
    "Luk.myName"
   ]
  },
  {
   "cell_type": "markdown",
   "id": "606549db",
   "metadata": {},
   "source": [
    "If you dont need to import all functions in a list, and just need one, also to help keep final file size down, you can add whichever functions you want individually out of a module or package."
   ]
  },
  {
   "cell_type": "code",
   "execution_count": null,
   "id": "d948290a",
   "metadata": {},
   "outputs": [],
   "source": [
    "from Lukes_cool_code import myName as me"
   ]
  },
  {
   "cell_type": "code",
   "execution_count": null,
   "id": "ed70748b",
   "metadata": {},
   "outputs": [],
   "source": [
    "me"
   ]
  },
  {
   "cell_type": "markdown",
   "id": "9a52bd01",
   "metadata": {},
   "source": [
    "## Try/Except/Finally Statements"
   ]
  },
  {
   "cell_type": "markdown",
   "id": "8c219e67",
   "metadata": {},
   "source": [
    "def some function():                                                                                                                \n",
    "    try:                                                                                                                       \n",
    "        these ideas and steps in the function                                                                                   \n",
    "    except this specific error that keeps popping up:                                                                           \n",
    "        print(this is that error)                                                                                               \n",
    "    else:\n",
    "        print(this worked the way it was supposed to) #this way you know the program is running smoothly. helps with debugging \n",
    "    except:                                                                                                                     \n",
    "        print(any other error that I dont know about)                                                                           \n",
    "    finally:\n",
    "        close out file/program                                                                                                 \n",
    "        print(file/program closed)                                                                                             \n",
    "\n",
    "[exception list](https://docs.python.org/3/library/exceptions.html?utm_medium=Exinfluencer&utm_source=Exinfluencer&utm_content=000026UJ&utm_term=10006555&utm_id=NA-SkillsNetwork-Channel-SkillsNetworkCoursesIBMDeveloperSkillsNetworkPY0101ENSkillsNetwork19487395-2021-01-01)"
   ]
  },
  {
   "cell_type": "code",
   "execution_count": null,
   "id": "67f6f96b",
   "metadata": {},
   "outputs": [],
   "source": [
    "a = 1\n",
    "\n",
    "try:\n",
    "    b = int(input(\"Please enter a number to divide a\"))\n",
    "    a = a/b\n",
    "    print(\"Success a=\",a)\n",
    "except:\n",
    "    print(\"There was an error\")"
   ]
  },
  {
   "cell_type": "code",
   "execution_count": null,
   "id": "648c1475",
   "metadata": {},
   "outputs": [],
   "source": [
    "a = 1\n",
    "\n",
    "try:\n",
    "    b = int(input(\"Please enter a number to divide a\"))\n",
    "    a = a/b\n",
    "    print(\"Success a=\",a)\n",
    "except ZeroDivisionError:\n",
    "    print(\"The number you provided cant divide 1 because it is 0\")\n",
    "except ValueError:\n",
    "    print(\"You did not provide a number\")\n",
    "except:\n",
    "    print(\"Something went wrong\")"
   ]
  },
  {
   "cell_type": "markdown",
   "id": "37602c20",
   "metadata": {},
   "source": [
    "else allows one to check if there was no exception when executing the try block. This is useful when we want to execute something only if there were no errors. finally allows us to always execute something even if there is an exception or not. This is usually used to signify the end of the try except."
   ]
  },
  {
   "cell_type": "code",
   "execution_count": null,
   "id": "fda07624",
   "metadata": {
    "scrolled": true
   },
   "outputs": [],
   "source": [
    "a = 1\n",
    "\n",
    "try:\n",
    "    b = int(input(\"Please enter a number to divide a\"))\n",
    "    a = a/b\n",
    "except ZeroDivisionError:\n",
    "    print(\"The number you provided cant divide 1 because it is 0\")\n",
    "except ValueError:\n",
    "    print(\"You did not provide a number\")\n",
    "except:\n",
    "    print(\"Something went wrong\")\n",
    "else:\n",
    "    print(\"success a=\",a)\n",
    "finally:\n",
    "    print(\"Processing Complete\")"
   ]
  },
  {
   "cell_type": "markdown",
   "id": "d99c3a90",
   "metadata": {},
   "source": [
    "## Creating my own Class "
   ]
  },
  {
   "cell_type": "markdown",
   "id": "445757bb",
   "metadata": {},
   "source": [
    "Lab taken from IBM Data Science Certificate, Python for Data Science, Week 3: [Objects and Classes](https://labs.cognitiveclass.ai/tools/jupyterlab/lab/tree/labs/PY0101EN/PY0101EN-3-4-Classes.ipynb?lti=true)"
   ]
  },
  {
   "cell_type": "markdown",
   "id": "148199d0",
   "metadata": {},
   "source": [
    "The first step in creating a class is giving it a name. In this notebook, we will create two classes: Circle and Rectangle. We need to determine all the data that make up that class, which we call <em>attributes</em>. Think about this step as creating a blue print that we will use to create objects. In our minds, there are two classes, Circle and Rectangle. Each has their attributes, which are variables. The class Circle has the attribute radius and color, while the Rectangle class has the attribute height and width. "
   ]
  },
  {
   "cell_type": "markdown",
   "id": "7dc0a0b3",
   "metadata": {},
   "source": [
    "Classes circle and rectangle, and each has their own attributes. The class Circle has the attribute radius and colour, the class Rectangle has the attributes height and width."
   ]
  },
  {
   "cell_type": "markdown",
   "id": "0e7416f8",
   "metadata": {},
   "source": [
    "<h3 id=\"instance\">Instances of a Class: Objects and Attributes</h3>"
   ]
  },
  {
   "cell_type": "markdown",
   "id": "8b63263b",
   "metadata": {},
   "source": [
    "An instance of an object is the realisation of a class, and in our minds, we see three instances of the class circle. We give each object a name: red circle, yellow circle, and green circle. Each object has different attributes, so let's focus on the color attribute for each object. The colour attribute for the red Circle is the colour red, for the green Circle object the colour attribute is green, and for the yellow Circle the colour attribute is yellow."
   ]
  },
  {
   "cell_type": "markdown",
   "id": "646b7fdc",
   "metadata": {},
   "source": [
    "<h3 id=\"method\">Methods</h3>"
   ]
  },
  {
   "cell_type": "markdown",
   "id": "fac9e47d",
   "metadata": {},
   "source": [
    "Methods give you a way to change or interact with the object; they are functions that interact with objects. For example, let’s say we would like to increase the radius of a circle by a specified amount. We can create a method called **add_radius(r)** that increases the radius by **r**. Where after applying the method to the \"orange circle object\", the radius of the object increases accordingly. The “dot” notation means to apply the method to the object, which is essentially applying a function to the information in the object."
   ]
  },
  {
   "cell_type": "markdown",
   "id": "11b9fd4d",
   "metadata": {},
   "source": [
    "Now we are going to create a class Circle, but first, we are going to import a library to draw the objects:"
   ]
  },
  {
   "cell_type": "code",
   "execution_count": null,
   "id": "f2a028eb",
   "metadata": {},
   "outputs": [],
   "source": [
    "# Import the library\n",
    "\n",
    "import matplotlib.pyplot as plt\n",
    "%matplotlib inline"
   ]
  },
  {
   "cell_type": "markdown",
   "id": "577c263a",
   "metadata": {},
   "source": [
    "The first step in creating your own class is to use the <code>class</code> keyword, then the name of the class as shown in Figure 4. In this course the class parent will always be object:"
   ]
  },
  {
   "cell_type": "markdown",
   "id": "102cf5dd",
   "metadata": {},
   "source": [
    "<img src=\"https://cf-courses-data.s3.us.cloud-object-storage.appdomain.cloud/IBMDeveloperSkillsNetwork-PY0101EN-SkillsNetwork/labs/Module%203/images/ClassesDefine.png\" width=\"400\" />"
   ]
  },
  {
   "cell_type": "markdown",
   "id": "c53f7c65",
   "metadata": {},
   "source": [
    "<i>Figure 4: Creating a class Circle.</i>"
   ]
  },
  {
   "cell_type": "markdown",
   "id": "07c12a29",
   "metadata": {},
   "source": [
    "The next step is a special method called a constructor <code>\\__init\\_\\_</code>, which is used to initialize the object. The inputs are data attributes. The term <code>self</code> contains all the attributes in the set. For example the <code>self.color</code> gives the value of the attribute color and <code>self.radius</code> will give you the radius of the object. We also have the method <code>add_radius()</code> with the parameter <code>r</code>, the method adds the value of <code>r</code> to the attribute radius. To access the radius we use the syntax <code>self.radius</code>. The labeled syntax is summarized in Figure 5:\n"
   ]
  },
  {
   "cell_type": "markdown",
   "id": "6d606462",
   "metadata": {},
   "source": [
    "<img src=\"https://cf-courses-data.s3.us.cloud-object-storage.appdomain.cloud/IBMDeveloperSkillsNetwork-PY0101EN-SkillsNetwork/labs/Module%203/images/ClassesCircle.png\" width=\"600\" />\n"
   ]
  },
  {
   "cell_type": "markdown",
   "id": "4662193e",
   "metadata": {},
   "source": [
    "<i>Figure 5: Labeled syntax of the object circle.</i>\n"
   ]
  },
  {
   "cell_type": "markdown",
   "id": "3f8c0a4a",
   "metadata": {},
   "source": [
    "The actual object is shown below. We include the method <code>drawCircle</code> to display the image of a circle. We set the default radius to 3 and the default colour to blue:\n"
   ]
  },
  {
   "cell_type": "code",
   "execution_count": null,
   "id": "487aa3bd",
   "metadata": {},
   "outputs": [],
   "source": [
    "# Create a class Circle\n",
    "\n",
    "class Circle(object):\n",
    "    \n",
    "    # Constructor\n",
    "    def __init__(self, radius=3, color='blue'):\n",
    "        self.radius = radius\n",
    "        self.color = color \n",
    "    \n",
    "    # Method\n",
    "    def add_radius(self, r):\n",
    "        self.radius = self.radius + r\n",
    "        return(self.radius)\n",
    "    \n",
    "    # Method\n",
    "    def drawCircle(self):\n",
    "        plt.gca().add_patch(plt.Circle((0, 0), radius=self.radius, fc=self.color))\n",
    "        plt.axis('scaled')\n",
    "        plt.show()  "
   ]
  },
  {
   "cell_type": "markdown",
   "id": "3b6e394c",
   "metadata": {},
   "source": [
    "<h2 id=\"circle\">Creating an instance of a class Circle</h2>"
   ]
  },
  {
   "cell_type": "markdown",
   "id": "40a568b9",
   "metadata": {},
   "source": [
    "Let’s create the object <code>RedCircle</code> of type Circle to do the following:\n"
   ]
  },
  {
   "cell_type": "code",
   "execution_count": null,
   "id": "70d09c72",
   "metadata": {},
   "outputs": [],
   "source": [
    "# Create an object RedCircle\n",
    "\n",
    "RedCircle = Circle(10, 'red')"
   ]
  },
  {
   "cell_type": "markdown",
   "id": "3c67f570",
   "metadata": {},
   "source": [
    "We can use the <code>dir</code> command to get a list of the object's methods. Many of them are default Python methods."
   ]
  },
  {
   "cell_type": "code",
   "execution_count": null,
   "id": "fc3dedfc",
   "metadata": {},
   "outputs": [],
   "source": [
    "# Find out the methods can be used on the object RedCircle. Not gonna worry about the ones with underlines. focus on the regular ones first.\n",
    "\n",
    "dir(RedCircle)"
   ]
  },
  {
   "cell_type": "markdown",
   "id": "1ae14c59",
   "metadata": {},
   "source": [
    "We can look at the data attributes of the object:\n"
   ]
  },
  {
   "cell_type": "code",
   "execution_count": null,
   "id": "f0b3f2de",
   "metadata": {},
   "outputs": [],
   "source": [
    "# Print the object attribute radius\n",
    "\n",
    "RedCircle.radius"
   ]
  },
  {
   "cell_type": "code",
   "execution_count": null,
   "id": "e4d72fca",
   "metadata": {},
   "outputs": [],
   "source": [
    "# Print the object attribute color\n",
    "\n",
    "RedCircle.color"
   ]
  },
  {
   "cell_type": "markdown",
   "id": "7317b9d8",
   "metadata": {},
   "source": [
    "We can change the object's data attributes:"
   ]
  },
  {
   "cell_type": "code",
   "execution_count": null,
   "id": "d752127e",
   "metadata": {},
   "outputs": [],
   "source": [
    "# Set the object attribute radius\n",
    "\n",
    "RedCircle.radius = 1\n",
    "RedCircle.radius"
   ]
  },
  {
   "cell_type": "markdown",
   "id": "48a2058f",
   "metadata": {},
   "source": [
    "We can draw the object by using the method <code>drawCircle()</code>:"
   ]
  },
  {
   "cell_type": "code",
   "execution_count": null,
   "id": "486cbebf",
   "metadata": {},
   "outputs": [],
   "source": [
    "# Call the method drawCircle\n",
    "\n",
    "RedCircle.drawCircle()"
   ]
  },
  {
   "cell_type": "markdown",
   "id": "21c7d08c",
   "metadata": {},
   "source": [
    "We can increase the radius of the circle by applying the method <code>add_radius()</code>. Let's increases the radius by 2 and then by 5:"
   ]
  },
  {
   "cell_type": "code",
   "execution_count": null,
   "id": "758235bc",
   "metadata": {},
   "outputs": [],
   "source": [
    "# Use method to change the object attribute radius\n",
    "\n",
    "print('Radius of object:',RedCircle.radius)\n",
    "RedCircle.add_radius(2)\n",
    "print('Radius of object of after applying the method add_radius(2):',RedCircle.radius)\n",
    "RedCircle.add_radius(5)\n",
    "print('Radius of object of after applying the method add_radius(5):',RedCircle.radius)"
   ]
  },
  {
   "cell_type": "markdown",
   "id": "c6be1f31",
   "metadata": {},
   "source": [
    "Let’s create a blue circle. As the default colour is blue, all we have to do is specify what the radius is:\n"
   ]
  },
  {
   "cell_type": "code",
   "execution_count": null,
   "id": "c943363f",
   "metadata": {},
   "outputs": [],
   "source": [
    "# Create a blue circle with a given radius\n",
    "\n",
    "BlueCircle = Circle(radius=100)"
   ]
  },
  {
   "cell_type": "code",
   "execution_count": null,
   "id": "10bfc640",
   "metadata": {},
   "outputs": [],
   "source": [
    "# Call the method drawCircle\n",
    "\n",
    "BlueCircle.drawCircle()"
   ]
  },
  {
   "cell_type": "markdown",
   "id": "635d311a",
   "metadata": {},
   "source": [
    "Compare the x and y axis of the figure to the figure for <code>RedCircle</code>; they are different."
   ]
  },
  {
   "cell_type": "markdown",
   "id": "2714bef9",
   "metadata": {},
   "source": [
    "<h2 id=\"rect\">The Rectangle Class</h2>"
   ]
  },
  {
   "cell_type": "markdown",
   "id": "d632d753",
   "metadata": {},
   "source": [
    "Let's create a class rectangle with the attributes of height, width, and color. We will only add the method to draw the rectangle object:\n"
   ]
  },
  {
   "cell_type": "code",
   "execution_count": null,
   "id": "cabec99a",
   "metadata": {},
   "outputs": [],
   "source": [
    "# Create a new Rectangle class for creating a rectangle object\n",
    "\n",
    "class Rectangle(object):\n",
    "    \n",
    "    # Constructor\n",
    "    def __init__(self, width=2, height=3, color='r'):\n",
    "        self.height = height \n",
    "        self.width = width\n",
    "        self.color = color\n",
    "    \n",
    "    # Method\n",
    "    def drawRectangle(self):\n",
    "        plt.gca().add_patch(plt.Rectangle((0, 0), self.width, self.height ,fc=self.color))\n",
    "        plt.axis('scaled')\n",
    "        plt.show()\n",
    "        "
   ]
  },
  {
   "cell_type": "markdown",
   "id": "9f13f178",
   "metadata": {},
   "source": [
    "Let’s create the object <code>SkinnyBlueRectangle</code> of type Rectangle. Its width will be 2 and height will be 3, and the color will be blue:"
   ]
  },
  {
   "cell_type": "code",
   "execution_count": null,
   "id": "636f8fc2",
   "metadata": {},
   "outputs": [],
   "source": [
    "# Create a new object rectangle\n",
    "\n",
    "SkinnyBlueRectangle = Rectangle(2, 3, 'blue')"
   ]
  },
  {
   "cell_type": "markdown",
   "id": "c6ae48a7",
   "metadata": {},
   "source": [
    "As before we can access the attributes of the instance of the class by using the dot notation:\n"
   ]
  },
  {
   "cell_type": "code",
   "execution_count": null,
   "id": "d9213508",
   "metadata": {},
   "outputs": [],
   "source": [
    "# Print the object attribute height\n",
    "\n",
    "SkinnyBlueRectangle.height "
   ]
  },
  {
   "cell_type": "code",
   "execution_count": null,
   "id": "82d2b74c",
   "metadata": {},
   "outputs": [],
   "source": [
    "# Print the object attribute width\n",
    "\n",
    "SkinnyBlueRectangle.width"
   ]
  },
  {
   "cell_type": "code",
   "execution_count": null,
   "id": "61c5653b",
   "metadata": {},
   "outputs": [],
   "source": [
    "# Print the object attribute color\n",
    "\n",
    "SkinnyBlueRectangle.color"
   ]
  },
  {
   "cell_type": "code",
   "execution_count": null,
   "id": "fd63d8d2",
   "metadata": {},
   "outputs": [],
   "source": [
    "# Use the drawRectangle method to draw the shape\n",
    "\n",
    "SkinnyBlueRectangle.drawRectangle()"
   ]
  },
  {
   "cell_type": "markdown",
   "id": "2121cb0c",
   "metadata": {},
   "source": [
    "Let’s create the object <code>FatYellowRectangle</code> of type Rectangle:\n"
   ]
  },
  {
   "cell_type": "code",
   "execution_count": null,
   "id": "298f8a1c",
   "metadata": {},
   "outputs": [],
   "source": [
    "# Create a new object rectangle\n",
    "\n",
    "FatYellowRectangle = Rectangle(20, 5, 'yellow')"
   ]
  },
  {
   "cell_type": "code",
   "execution_count": null,
   "id": "06b8fca0",
   "metadata": {},
   "outputs": [],
   "source": [
    "# Use the drawRectangle method to draw the shape\n",
    "\n",
    "FatYellowRectangle.drawRectangle()"
   ]
  },
  {
   "cell_type": "markdown",
   "id": "fe0a26d5",
   "metadata": {},
   "source": [
    "<h2 id=\"rect\">Exercises</h2>\n"
   ]
  },
  {
   "cell_type": "markdown",
   "id": "d4521982",
   "metadata": {},
   "source": [
    "<h4> Text Analysis </h4>\n"
   ]
  },
  {
   "cell_type": "markdown",
   "id": "50021ac5",
   "metadata": {},
   "source": [
    "You have been recruited by your friend, a linguistics enthusiast, to create a utility tool that can perform analysis on a given piece of text. Complete the class\n",
    "'analysedText' with the following methods -\n",
    "\n",
    "<ul>\n",
    "    <li> Constructor - Takes argument 'text',makes it lower case and removes all punctuation. Assume only the following punctuation is used - period (.), exclamation mark (!), comma (,) and question mark (?). Store the argument in \"fmtText\"      \n",
    "    <li> freqAll - returns a dictionary of all unique words in the text along with the number of their occurences.\n",
    "    <li> freqOf - returns the frequency of the word passed in argument.\n",
    "</ul>\n",
    " The skeleton code has been given to you. Docstrings can be ignored for the purpose of the exercise. <br>\n",
    " <i> Hint: Some useful functions are <code>replace()</code>, <code>lower()</code>, <code>split()</code>, <code>count()</code> </i><br>"
   ]
  },
  {
   "cell_type": "code",
   "execution_count": null,
   "id": "8bb4d57f",
   "metadata": {},
   "outputs": [],
   "source": [
    "class analysedText(object):\n",
    "    \n",
    "    def __init__ (self, text):\n",
    "        pass\n",
    "    \n",
    "    def freqAll(self):        \n",
    "        pass\n",
    "    \n",
    "    def freqOf(self,word):\n",
    "        pass\n",
    "        "
   ]
  },
  {
   "cell_type": "markdown",
   "id": "8bde5741",
   "metadata": {},
   "source": [
    "Execute the block below to check your progress.\n"
   ]
  },
  {
   "cell_type": "code",
   "execution_count": null,
   "id": "bbc5339c",
   "metadata": {},
   "outputs": [],
   "source": [
    "import sys\n",
    "\n",
    "sampleMap = {'eirmod': 1,'sed': 1, 'amet': 2, 'diam': 5, 'consetetur': 1, 'labore': 1, 'tempor': 1, 'dolor': 1, 'magna': 2, 'et': 3, 'nonumy': 1, 'ipsum': 1, 'lorem': 2}\n",
    "\n",
    "def testMsg(passed):\n",
    "    if passed:\n",
    "       return 'Test Passed'\n",
    "    else :\n",
    "       return 'Test Failed'\n",
    "\n",
    "print(\"Constructor: \")\n",
    "try:\n",
    "    samplePassage = analysedText(\"Lorem ipsum dolor! diam amet, consetetur Lorem magna. sed diam nonumy eirmod tempor. diam et labore? et diam magna. et diam amet.\")\n",
    "    print(testMsg(samplePassage.fmtText == \"lorem ipsum dolor diam amet consetetur lorem magna sed diam nonumy eirmod tempor diam et labore et diam magna et diam amet\"))\n",
    "except:\n",
    "    print(\"Error detected. Recheck your function \" )\n",
    "print(\"freqAll: \")\n",
    "try:\n",
    "    wordMap = samplePassage.freqAll()\n",
    "    print(testMsg(wordMap==sampleMap))\n",
    "except:\n",
    "    print(\"Error detected. Recheck your function \" )\n",
    "print(\"freqOf: \")\n",
    "try:\n",
    "    passed = True\n",
    "    for word in sampleMap:\n",
    "        if samplePassage.freqOf(word) != sampleMap[word]:\n",
    "            passed = False\n",
    "            break\n",
    "    print(testMsg(passed))\n",
    "    \n",
    "except:\n",
    "    print(\"Error detected. Recheck your function  \" )\n",
    "    "
   ]
  },
  {
   "cell_type": "markdown",
   "id": "57d67909",
   "metadata": {},
   "source": [
    "### Solution!!"
   ]
  },
  {
   "cell_type": "code",
   "execution_count": null,
   "id": "0d98f220",
   "metadata": {},
   "outputs": [],
   "source": [
    "class analysedText(object):\n",
    "    \n",
    "    def __init__ (self, text):\n",
    "        # remove punctuation\n",
    "        formattedText = text.replace('.','').replace('!','').replace('?','').replace(',','')\n",
    "        \n",
    "        # make text lowercase\n",
    "        formattedText = formattedText.lower()\n",
    "        \n",
    "        self.fmtText = formattedText\n",
    "        \n",
    "    def freqAll(self):        \n",
    "        # split text into words\n",
    "        wordList = self.fmtText.split(' ')\n",
    "        \n",
    "        # Create dictionary\n",
    "        freqMap = {}\n",
    "        for word in set(wordList): # use set to remove duplicates in list\n",
    "            freqMap[word] = wordList.count(word)\n",
    "        \n",
    "        return freqMap\n",
    "    \n",
    "    def freqOf(self,word):\n",
    "        # get frequency map\n",
    "        freqDict = self.freqAll()\n",
    "        \n",
    "        if word in freqDict:\n",
    "            return freqDict[word]\n",
    "        else:\n",
    "            return 0"
   ]
  },
  {
   "cell_type": "markdown",
   "id": "9c4298f4",
   "metadata": {},
   "source": [
    "<h2 id=\"creating\"> Practice Creating a Class</h2>\n"
   ]
  },
  {
   "cell_type": "markdown",
   "id": "659d76b4",
   "metadata": {},
   "source": [
    "[classes and instances](https://www.youtube.com/watch?v=ZDa-Z5JzLYM), [class variables](https://www.youtube.com/watch?v=BJ-VvGyQxho), [class methods and static methods](https://www.youtube.com/watch?v=rq8cL2XMM5M), [Inheritance-creating subclasses](https://www.youtube.com/watch?v=RSl87lqOXDE), [magic/dunder methods](https://www.youtube.com/watch?v=3ohzBxoFHAY), [getters/setters/deleters](https://www.youtube.com/watch?v=jCzT9XFZ5bw)"
   ]
  },
  {
   "cell_type": "code",
   "execution_count": null,
   "id": "984b7756",
   "metadata": {},
   "outputs": [],
   "source": []
  },
  {
   "cell_type": "code",
   "execution_count": null,
   "id": "5402ab1f",
   "metadata": {},
   "outputs": [],
   "source": []
  },
  {
   "cell_type": "code",
   "execution_count": null,
   "id": "bdf5704e",
   "metadata": {},
   "outputs": [],
   "source": []
  },
  {
   "cell_type": "code",
   "execution_count": null,
   "id": "06509201",
   "metadata": {},
   "outputs": [],
   "source": []
  },
  {
   "cell_type": "code",
   "execution_count": null,
   "id": "4ecff412",
   "metadata": {},
   "outputs": [],
   "source": []
  },
  {
   "cell_type": "code",
   "execution_count": null,
   "id": "40c5c801",
   "metadata": {},
   "outputs": [],
   "source": [
    "class circle (object):   # Creating a class\n",
    "    def __init__(self,radius, color):   # data attributes used to initialze each instance of that class\n",
    "        self.radius(radius)    # __init__ is a special constructor that tells Python you are making a new class; used to initialize data attributes\n",
    "        self.color(color)      # the self parameter refers to the newly created instance of the class"
   ]
  },
  {
   "cell_type": "code",
   "execution_count": null,
   "id": "7d702265",
   "metadata": {},
   "outputs": [],
   "source": [
    "redCircle = circle(10,'red') # varaible = name of class you just made(attributes you picked for the class.. radius, color in this example)"
   ]
  },
  {
   "cell_type": "code",
   "execution_count": null,
   "id": "a7f6d3c2",
   "metadata": {},
   "outputs": [],
   "source": []
  },
  {
   "cell_type": "code",
   "execution_count": null,
   "id": "346221c2",
   "metadata": {},
   "outputs": [],
   "source": []
  },
  {
   "cell_type": "markdown",
   "id": "1c0d3f95",
   "metadata": {},
   "source": [
    "# Practice Functions"
   ]
  },
  {
   "cell_type": "markdown",
   "id": "5010cd12",
   "metadata": {},
   "source": [
    "Given a list of numbers, [n], make another list that contains all the items from min to max. The result should be another list."
   ]
  },
  {
   "cell_type": "code",
   "execution_count": null,
   "id": "833558e8",
   "metadata": {},
   "outputs": [],
   "source": [
    "def findMin(L):\n",
    "    m = L[0]\n",
    "    idx = 0\n",
    "    i = 0\n",
    "    for x in L:\n",
    "        if x<m:\n",
    "            m = x\n",
    "            idx = i\n",
    "        else:\n",
    "            pass\n",
    "        i += 1\n",
    "    return m,idx"
   ]
  },
  {
   "cell_type": "code",
   "execution_count": null,
   "id": "98faa9a6",
   "metadata": {},
   "outputs": [],
   "source": [
    "'''this function was rewritten for problem 2 so we can\n",
    "start from an index value to create a list. using a \n",
    "range function, for i in range, allows tracking of the \n",
    "length of the list to be able to find the min value in\n",
    "a list, and the index value'''\n",
    "def findMin2(L,startIndx):\n",
    "    m = L[startIndx]\n",
    "    idx = startIndx\n",
    "    for i in range(startIndx,len(L)):\n",
    "        x = L[i]\n",
    "        if x<m:\n",
    "            m = x\n",
    "            idx = i\n",
    "        else:\n",
    "            pass\n",
    "    return m,idx"
   ]
  },
  {
   "cell_type": "code",
   "execution_count": null,
   "id": "27ff07d1",
   "metadata": {},
   "outputs": [],
   "source": [
    "a,b = findMin([0.53453,0.73562,0.32456,0.4563])"
   ]
  },
  {
   "cell_type": "code",
   "execution_count": null,
   "id": "eda26d1f",
   "metadata": {},
   "outputs": [],
   "source": [
    "print(a,b)"
   ]
  },
  {
   "cell_type": "code",
   "execution_count": null,
   "id": "44afce42",
   "metadata": {},
   "outputs": [],
   "source": [
    "def swapValues(L,idx1,idx2):\n",
    "    tmp = L[idx1]\n",
    "    L[idx1] = L[idx2]\n",
    "    L[idx2] = tmp #'tmp' is a function, not a variable\n",
    "    return L"
   ]
  },
  {
   "cell_type": "code",
   "execution_count": null,
   "id": "71fc0e1e",
   "metadata": {},
   "outputs": [],
   "source": [
    "L = [2,4,12,564,2.2]\n",
    "L2 = swapValues(L,1,3)\n",
    "print(L2)"
   ]
  },
  {
   "cell_type": "code",
   "execution_count": null,
   "id": "f8b66aa8",
   "metadata": {},
   "outputs": [],
   "source": [
    "from Lukes_cool_code import checkIfNotNumeric\n",
    "def sortList(L):\n",
    "    if not(checkIfNotNumeric(L)):\n",
    "        print('Error: List does not contain numeric values')\n",
    "        return\n",
    "    else:\n",
    "        c = 0\n",
    "        for x in L:\n",
    "            m,idx = findMin2(L)\n",
    "            L = swapvalues(L,c,idx)\n",
    "            c+=1\n",
    "    return L"
   ]
  },
  {
   "cell_type": "code",
   "execution_count": null,
   "id": "39554a16",
   "metadata": {
    "scrolled": true
   },
   "outputs": [],
   "source": [
    "L2 = sortList([3,543,-435.34,-3435.34,342])"
   ]
  },
  {
   "cell_type": "markdown",
   "id": "c37e4c87",
   "metadata": {},
   "source": [
    "Haha, well, yes, it does.. whats up here? Lets find out!"
   ]
  },
  {
   "cell_type": "code",
   "execution_count": null,
   "id": "5c130f83",
   "metadata": {},
   "outputs": [],
   "source": [
    "checkIfNotNumeric??"
   ]
  },
  {
   "cell_type": "markdown",
   "id": "395ae998",
   "metadata": {},
   "source": [
    "The code functions without error, and seems to be set up correctly to solve some issues, but not all, and could use updating to work with this particlar problem. "
   ]
  },
  {
   "cell_type": "code",
   "execution_count": null,
   "id": "50c646a7",
   "metadata": {},
   "outputs": [],
   "source": [
    "'''this is a check to see if we can get the list to print\n",
    "and it has failed'''\n",
    "print(checkIfNotNumeric([3,4,23,432.3,34]))"
   ]
  },
  {
   "cell_type": "markdown",
   "id": "66d7a4d2",
   "metadata": {},
   "source": [
    "I opened the .py file in Notepad that 'checkIfNotNumeric belongs to, (I could probably use Mu to open it and edit as well) and it needed a print function to be written in order to work correctly. We are passing 1 varaible in as well, just 1 list, \n"
   ]
  },
  {
   "cell_type": "code",
   "execution_count": null,
   "id": "3d67ff08",
   "metadata": {},
   "outputs": [],
   "source": [
    "def checkIfNotNumeric2(L):\n",
    "    for x in L:\n",
    "        print(x)\n",
    "        if not(isinstance(x,(int,float))):\n",
    "            return False\n",
    "    return True"
   ]
  },
  {
   "cell_type": "code",
   "execution_count": null,
   "id": "44782b70",
   "metadata": {},
   "outputs": [],
   "source": [
    "def sortList(L):\n",
    "    if not (checkIfNotNumeric2(L)):\n",
    "        print('Error: List does not contain numeric values')\n",
    "        return\n",
    "    else:\n",
    "        c = 0\n",
    "        for x in L:\n",
    "            m,idx = findMin(L,c)\n",
    "            L = swapValues(L,c,idx)\n",
    "            c+=1\n",
    "    return L"
   ]
  },
  {
   "cell_type": "code",
   "execution_count": null,
   "id": "c9c016d6",
   "metadata": {},
   "outputs": [],
   "source": [
    "L2 = sortList([2,34,342,5634,4.234])"
   ]
  },
  {
   "cell_type": "markdown",
   "id": "eb63166c",
   "metadata": {},
   "source": [
    "While, aestheticaly pleasing, this is still not correct. Maybe it is only counting the leng\n",
    "th of the arguments passed to it. Lets check.."
   ]
  },
  {
   "cell_type": "code",
   "execution_count": null,
   "id": "973dc33a",
   "metadata": {},
   "outputs": [],
   "source": [
    "L2 = sortList([5,4,3,2,1])"
   ]
  },
  {
   "cell_type": "markdown",
   "id": "bab7a2c0",
   "metadata": {},
   "source": [
    "Nope.., but at least its not printing the error message anymore."
   ]
  },
  {
   "cell_type": "code",
   "execution_count": null,
   "id": "9bd8dfff",
   "metadata": {},
   "outputs": [],
   "source": [
    "def checkIfNotNumeric2(L):\n",
    "    for x in L:\n",
    "      \n",
    "        if not(isinstance(x,(int,float))):\n",
    "            return False\n",
    "    return True"
   ]
  },
  {
   "cell_type": "code",
   "execution_count": null,
   "id": "40ecec1b",
   "metadata": {},
   "outputs": [],
   "source": [
    "def swapValues(L,idx1,idx2):\n",
    "    tmp = L[0]\n",
    "    L[idx1] = L[idx2]\n",
    "    L[idx1] = tmp #'tmp' is a function, not a variable\n",
    "    return L"
   ]
  },
  {
   "cell_type": "code",
   "execution_count": null,
   "id": "87fe089a",
   "metadata": {},
   "outputs": [],
   "source": [
    "def sortList(*L):\n",
    "    if (checkIfNotNumeric2(L)):\n",
    "        c = 0\n",
    "        for x in L:\n",
    "            m,idx1 = findMin2(L,c)\n",
    "            L = swapValues(L,c,idx1)\n",
    "            c+=1\n",
    "    else:\n",
    "        print('Error: List does not contain numeric values')\n",
    "        return\n",
    "    return L"
   ]
  },
  {
   "cell_type": "code",
   "execution_count": null,
   "id": "337ef8de",
   "metadata": {},
   "outputs": [],
   "source": [
    "sortList??"
   ]
  },
  {
   "cell_type": "code",
   "execution_count": null,
   "id": "1e7431b6",
   "metadata": {},
   "outputs": [],
   "source": [
    "print(sortList([2,34,342,5634,4.234]))"
   ]
  },
  {
   "cell_type": "markdown",
   "id": "fd7acaaa",
   "metadata": {},
   "source": [
    "Ok, so whats happening is the list isn't updating with a new value, it just prints the minValue over the length of the list. Lets check.."
   ]
  },
  {
   "cell_type": "code",
   "execution_count": null,
   "id": "4820d0e9",
   "metadata": {},
   "outputs": [],
   "source": [
    "print(sortList([12,19,4]))"
   ]
  },
  {
   "cell_type": "markdown",
   "id": "cff67cd4",
   "metadata": {},
   "source": []
  },
  {
   "cell_type": "code",
   "execution_count": null,
   "id": "8f098197",
   "metadata": {},
   "outputs": [],
   "source": [
    "def findMin2(L,startIndx):\n",
    "    m = L[startIndx]\n",
    "    idx = startIndx\n",
    "    for i in range(startIndx,len(L)):\n",
    "        x = L[i]\n",
    "        if x<m:\n",
    "            m = x\n",
    "            idx = i\n",
    "        else:\n",
    "            pass\n",
    "    return m,idx"
   ]
  },
  {
   "cell_type": "code",
   "execution_count": null,
   "id": "fe46f26c",
   "metadata": {},
   "outputs": [],
   "source": [
    "def sortList(L):\n",
    "    if not (checkIfNotNumeric2(L)):\n",
    "        print('Error: List does not contain numeric values')\n",
    "        return\n",
    "    else:\n",
    "        c = 0\n",
    "        for x in L:\n",
    "            m,idx = findMin2(L,c)\n",
    "            L = swapValues(L,c,idx)\n",
    "            c+=1\n",
    "    return L"
   ]
  },
  {
   "cell_type": "code",
   "execution_count": null,
   "id": "7b2862e8",
   "metadata": {},
   "outputs": [],
   "source": [
    "print(sortList([2,1,5,3,9,10]))"
   ]
  },
  {
   "cell_type": "markdown",
   "id": "44263a0d",
   "metadata": {},
   "source": [
    "I got it! I had to update the value of L[idx1] as it passed from one min value to the next in the 'findMin' function instead of starting at 0, otherwise it would print only the min value for the length of the list. \n",
    "Correct!\n",
    "def swapValues(L,idx1,idx2):\n",
    "    tmp = L[idx1]\n",
    "    L[idx1] = L[idx2]\n",
    "    L[idx2] = tmp #'tmp' is a function, not a variable\n",
    "    return L\n",
    "Didnt Work\n",
    "def swapValues(L,idx1,idx2):\n",
    "    tmp = L[0]\n",
    "    L[idx1] = L[idx2]\n",
    "    L[idx1] = tmp #'tmp' is a function, not a variable\n",
    "    return L"
   ]
  },
  {
   "cell_type": "markdown",
   "id": "03598c39",
   "metadata": {},
   "source": [
    "# Strings"
   ]
  },
  {
   "cell_type": "code",
   "execution_count": null,
   "id": "693d7b34",
   "metadata": {},
   "outputs": [],
   "source": [
    "s = 'Python is '\n",
    "r = 'for '\n",
    "t = 'Data Science'"
   ]
  },
  {
   "cell_type": "code",
   "execution_count": null,
   "id": "a3bd4274",
   "metadata": {},
   "outputs": [],
   "source": [
    "type(s)"
   ]
  },
  {
   "cell_type": "code",
   "execution_count": null,
   "id": "6489c1ca",
   "metadata": {},
   "outputs": [],
   "source": [
    "print(s + 'a good language '+ r + 'learning ' + t)"
   ]
  },
  {
   "cell_type": "code",
   "execution_count": null,
   "id": "1e064fbf",
   "metadata": {},
   "outputs": [],
   "source": [
    "v = s + 'a good language '+ r + 'learning ' + t\n",
    "print(v)"
   ]
  },
  {
   "cell_type": "code",
   "execution_count": null,
   "id": "7550f602",
   "metadata": {},
   "outputs": [],
   "source": [
    "price = 12\n",
    "s = 'The price of this book'\n",
    "q = s + ' is: ' + str(price)\n",
    "print(q) "
   ]
  },
  {
   "cell_type": "code",
   "execution_count": null,
   "id": "b2fe6d5e",
   "metadata": {},
   "outputs": [],
   "source": [
    "print(s,' is:',price)"
   ]
  },
  {
   "cell_type": "markdown",
   "id": "c3d7b379",
   "metadata": {},
   "source": [
    "# Multi line Strings"
   ]
  },
  {
   "cell_type": "code",
   "execution_count": null,
   "id": "6ab62e8e",
   "metadata": {},
   "outputs": [],
   "source": [
    "multiLineString = '''this is the first line, \n",
    "                    we have been doing this \n",
    "                    the whole time now...'''"
   ]
  },
  {
   "cell_type": "code",
   "execution_count": null,
   "id": "07846e37",
   "metadata": {},
   "outputs": [],
   "source": [
    "print(multiLineString)"
   ]
  },
  {
   "cell_type": "markdown",
   "id": "ae001381",
   "metadata": {},
   "source": [
    "Interesting how it prints out. I was trying to make it look even in the code above, but it prints out like that."
   ]
  },
  {
   "cell_type": "code",
   "execution_count": null,
   "id": "9ead265e",
   "metadata": {},
   "outputs": [],
   "source": [
    "print('''The following options are available\n",
    "`a      :does nothing\n",
    "`b      :also does nothing.. like a Seinfeld episode\n",
    "''')"
   ]
  },
  {
   "cell_type": "markdown",
   "id": "86d1036e",
   "metadata": {},
   "source": [
    "# Indexing/Slicing Strings"
   ]
  },
  {
   "cell_type": "code",
   "execution_count": null,
   "id": "34499371",
   "metadata": {},
   "outputs": [],
   "source": [
    "a = 'Every Elephant Eavesdrops'"
   ]
  },
  {
   "cell_type": "code",
   "execution_count": null,
   "id": "08c4134e",
   "metadata": {},
   "outputs": [],
   "source": [
    "print(a[2])"
   ]
  },
  {
   "cell_type": "code",
   "execution_count": null,
   "id": "345efaa0",
   "metadata": {},
   "outputs": [],
   "source": [
    "print(a[2:4]) #goes up to, but not including 4 "
   ]
  },
  {
   "cell_type": "code",
   "execution_count": null,
   "id": "ad22a61a",
   "metadata": {},
   "outputs": [],
   "source": [
    "print(a[2:10]) #goes up to, but not including 10"
   ]
  },
  {
   "cell_type": "code",
   "execution_count": null,
   "id": "b57b664f",
   "metadata": {},
   "outputs": [],
   "source": [
    "print(a[5:7]) #this prints the space between Every and Elepahnt, and the E in Elephant"
   ]
  },
  {
   "cell_type": "code",
   "execution_count": null,
   "id": "66b0ebbd",
   "metadata": {},
   "outputs": [],
   "source": [
    "print(a[-3])"
   ]
  },
  {
   "cell_type": "code",
   "execution_count": null,
   "id": "a905a5d8",
   "metadata": {},
   "outputs": [],
   "source": [
    "a[1]=f #my string is immutable, and cannot be changed"
   ]
  },
  {
   "cell_type": "code",
   "execution_count": null,
   "id": "54c19bce",
   "metadata": {},
   "outputs": [],
   "source": [
    "print(a[0:12:2])"
   ]
  },
  {
   "cell_type": "markdown",
   "id": "eecd79f4",
   "metadata": {},
   "source": [
    "print('variable'[start index:end index:step value]\n",
    "print('variable'[:end index]\n",
    "print('variable'[start index:]"
   ]
  },
  {
   "cell_type": "code",
   "execution_count": null,
   "id": "ce9b971b",
   "metadata": {},
   "outputs": [],
   "source": [
    "print(a[:10]) #prints everything from beginning to end index"
   ]
  },
  {
   "cell_type": "code",
   "execution_count": null,
   "id": "f63739ca",
   "metadata": {},
   "outputs": [],
   "source": [
    "print(a[5:]) #prints from start index to end"
   ]
  },
  {
   "cell_type": "code",
   "execution_count": null,
   "id": "a2f09597",
   "metadata": {},
   "outputs": [],
   "source": [
    "print(a[::2])"
   ]
  },
  {
   "cell_type": "code",
   "execution_count": null,
   "id": "b8aca22e",
   "metadata": {},
   "outputs": [],
   "source": []
  },
  {
   "cell_type": "markdown",
   "id": "78f9bbb6",
   "metadata": {},
   "source": [
    "# Variable.method Strings"
   ]
  },
  {
   "cell_type": "code",
   "execution_count": null,
   "id": "89b37936",
   "metadata": {},
   "outputs": [],
   "source": [
    "a = '        A lot of       spaces       that    are  not required         '"
   ]
  },
  {
   "cell_type": "code",
   "execution_count": null,
   "id": "e9128ff3",
   "metadata": {},
   "outputs": [],
   "source": [
    "a.strip() #removes spaces at beginning and end of string"
   ]
  },
  {
   "cell_type": "code",
   "execution_count": null,
   "id": "978fd835",
   "metadata": {},
   "outputs": [],
   "source": [
    "b = 'A:LIDJVkdjfivjken:LKJCVIWE:LKKNVIeikdnvK'"
   ]
  },
  {
   "cell_type": "code",
   "execution_count": null,
   "id": "354074a6",
   "metadata": {},
   "outputs": [],
   "source": [
    "b.lower()"
   ]
  },
  {
   "cell_type": "code",
   "execution_count": null,
   "id": "f8be6708",
   "metadata": {},
   "outputs": [],
   "source": [
    "b.upper()"
   ]
  },
  {
   "cell_type": "code",
   "execution_count": null,
   "id": "e152f105",
   "metadata": {},
   "outputs": [],
   "source": [
    "c = b.replace(':','&*^^%%')"
   ]
  },
  {
   "cell_type": "code",
   "execution_count": null,
   "id": "3d94f62a",
   "metadata": {},
   "outputs": [],
   "source": [
    "print(c)"
   ]
  },
  {
   "cell_type": "markdown",
   "id": "f128a8f5",
   "metadata": {},
   "source": [
    "variable.replace('string set currently in list*exact match only!','input string set')"
   ]
  },
  {
   "cell_type": "code",
   "execution_count": null,
   "id": "24e9ec77",
   "metadata": {},
   "outputs": [],
   "source": [
    "e = 'abc;def;ghi;jkl'\n",
    "L = e.split(';')\n",
    "print(L)"
   ]
  },
  {
   "cell_type": "code",
   "execution_count": null,
   "id": "da5aa66b",
   "metadata": {},
   "outputs": [],
   "source": [
    "L[1]"
   ]
  },
  {
   "cell_type": "markdown",
   "id": "564322dc",
   "metadata": {},
   "source": [
    "Keyboard shortcut!\n",
    "variable.(press Tab) and a list of available methods will appear to be able to try and use out. You can play around with them and find out what they do using the ?? or help functions built in to Python."
   ]
  },
  {
   "cell_type": "markdown",
   "id": "a8cc7cb4",
   "metadata": {},
   "source": [
    "# In/not in Strings"
   ]
  },
  {
   "cell_type": "code",
   "execution_count": null,
   "id": "8c8f9999",
   "metadata": {},
   "outputs": [],
   "source": [
    "'abc' in 'apples'"
   ]
  },
  {
   "cell_type": "code",
   "execution_count": null,
   "id": "4f93cc04",
   "metadata": {},
   "outputs": [],
   "source": [
    "'abc' not in 'apples'"
   ]
  },
  {
   "cell_type": "code",
   "execution_count": null,
   "id": "b0005289",
   "metadata": {},
   "outputs": [],
   "source": [
    "'abc' == 'abc'"
   ]
  },
  {
   "cell_type": "code",
   "execution_count": null,
   "id": "c6d60578",
   "metadata": {},
   "outputs": [],
   "source": [
    "'abc' < 'def'"
   ]
  },
  {
   "cell_type": "code",
   "execution_count": null,
   "id": "24a5f96b",
   "metadata": {},
   "outputs": [],
   "source": [
    "'abcdef' < 'def'"
   ]
  },
  {
   "cell_type": "code",
   "execution_count": null,
   "id": "92b30031",
   "metadata": {},
   "outputs": [],
   "source": [
    "'def' < 'abc'"
   ]
  },
  {
   "cell_type": "markdown",
   "id": "d38ab81c",
   "metadata": {},
   "source": [
    "The <,>,<=,>= operator works on strings by order of the alphabet."
   ]
  },
  {
   "cell_type": "code",
   "execution_count": null,
   "id": "f8f7eacb",
   "metadata": {},
   "outputs": [],
   "source": [
    "print('We are learning \\\"strings\\\" in this module.')"
   ]
  },
  {
   "cell_type": "code",
   "execution_count": null,
   "id": "747c617e",
   "metadata": {},
   "outputs": [],
   "source": [
    "print('We are learning \\\"strings\" in this module.')"
   ]
  },
  {
   "cell_type": "code",
   "execution_count": null,
   "id": "b2f80564",
   "metadata": {},
   "outputs": [],
   "source": [
    "print('We are learning \"strings\" in this module.')"
   ]
  },
  {
   "cell_type": "code",
   "execution_count": null,
   "id": "eda00ecd",
   "metadata": {},
   "outputs": [],
   "source": [
    "print('We are learning \\n\\\"strings\" in this \\nmodule')"
   ]
  },
  {
   "cell_type": "code",
   "execution_count": null,
   "id": "a72fb00b",
   "metadata": {},
   "outputs": [],
   "source": [
    "print('c:\\name\\drive')"
   ]
  },
  {
   "cell_type": "code",
   "execution_count": null,
   "id": "e3a1086a",
   "metadata": {},
   "outputs": [],
   "source": [
    "print(r'c:\\name\\drive')  #raw string"
   ]
  },
  {
   "cell_type": "markdown",
   "id": "91751897",
   "metadata": {},
   "source": [
    "# Data Structures: Lists, Tuples, Sets, and Dictionarys"
   ]
  },
  {
   "cell_type": "markdown",
   "id": "400265ca",
   "metadata": {},
   "source": [
    "       Ordered index     Changeable       Duplicates\n",
    "Lists         y              y                y\n",
    "Tuple         y              n                y\n",
    "Set           n          add/remove           n\n",
    "Dictionary    n              y                n"
   ]
  },
  {
   "cell_type": "code",
   "execution_count": 9,
   "id": "9c2561a1",
   "metadata": {},
   "outputs": [],
   "source": [
    "L = [1, 12, 12.12, 'Outside Cat']\n",
    "T = (1, 12, 12.12, 'Outside cat')\n",
    "S = {1, 1, 12, 12, 12.12, 12.12, 'Outside cat','Outside cat'}\n",
    "D = {'one':1, 'twelve':12, 'decimal':12.12, 8:'Outside Cat'}"
   ]
  },
  {
   "cell_type": "code",
   "execution_count": null,
   "id": "06853927",
   "metadata": {},
   "outputs": [],
   "source": [
    "print('The type of L is ', type(L))\n",
    "print('The type of T is ', type(T))\n",
    "print('The type of S is ', type(S))\n",
    "print('The type of D is ', type(D))"
   ]
  },
  {
   "cell_type": "code",
   "execution_count": null,
   "id": "b46326a7",
   "metadata": {},
   "outputs": [],
   "source": [
    "print(L[1])\n",
    "print(T[3])\n",
    "print(12.12 in S)\n",
    "print(D[8])"
   ]
  },
  {
   "cell_type": "markdown",
   "id": "16910155",
   "metadata": {},
   "source": [
    "## Lists"
   ]
  },
  {
   "cell_type": "code",
   "execution_count": 10,
   "id": "145a7f2b",
   "metadata": {},
   "outputs": [
    {
     "data": {
      "text/plain": [
       "[12, 12.12]"
      ]
     },
     "execution_count": 10,
     "metadata": {},
     "output_type": "execute_result"
    }
   ],
   "source": [
    "# slicing to access a list\n",
    "L[1:3]"
   ]
  },
  {
   "cell_type": "code",
   "execution_count": null,
   "id": "411d455a",
   "metadata": {
    "scrolled": true
   },
   "outputs": [],
   "source": [
    "L[::-1]  #reverse list"
   ]
  },
  {
   "cell_type": "code",
   "execution_count": null,
   "id": "353d2ddc",
   "metadata": {},
   "outputs": [],
   "source": [
    "# adding new info to a list \n",
    "L.append('new')"
   ]
  },
  {
   "cell_type": "code",
   "execution_count": null,
   "id": "d157aba4",
   "metadata": {},
   "outputs": [],
   "source": [
    "L"
   ]
  },
  {
   "cell_type": "code",
   "execution_count": null,
   "id": "edbe3309",
   "metadata": {},
   "outputs": [],
   "source": [
    "L.extend('newest')"
   ]
  },
  {
   "cell_type": "code",
   "execution_count": null,
   "id": "e765c486",
   "metadata": {},
   "outputs": [],
   "source": [
    "L"
   ]
  },
  {
   "cell_type": "code",
   "execution_count": null,
   "id": "59ae8175",
   "metadata": {},
   "outputs": [],
   "source": [
    "# replacing an item in a list with another item\n",
    "L[2] = 13"
   ]
  },
  {
   "cell_type": "code",
   "execution_count": null,
   "id": "23c8d4cc",
   "metadata": {},
   "outputs": [],
   "source": [
    "L"
   ]
  },
  {
   "cell_type": "code",
   "execution_count": null,
   "id": "72e5f233",
   "metadata": {},
   "outputs": [],
   "source": [
    "# deleting part of a list\n",
    "del L[4]"
   ]
  },
  {
   "cell_type": "code",
   "execution_count": null,
   "id": "11bbc807",
   "metadata": {},
   "outputs": [],
   "source": [
    "L"
   ]
  },
  {
   "cell_type": "code",
   "execution_count": null,
   "id": "b3523589",
   "metadata": {},
   "outputs": [],
   "source": [
    "L2 = L.copy()"
   ]
  },
  {
   "cell_type": "code",
   "execution_count": null,
   "id": "14f2d05d",
   "metadata": {},
   "outputs": [],
   "source": [
    "L2"
   ]
  },
  {
   "cell_type": "code",
   "execution_count": null,
   "id": "c212eeee",
   "metadata": {},
   "outputs": [],
   "source": [
    "#converting string to a list\n",
    "'Outside Cat'.split()"
   ]
  },
  {
   "cell_type": "code",
   "execution_count": null,
   "id": "06388a4b",
   "metadata": {},
   "outputs": [],
   "source": [
    "# we can do this and pass a delimiter in the argument section \n",
    "'Outside Cat','is my','best bud'.split(\",\")"
   ]
  },
  {
   "cell_type": "markdown",
   "id": "8906784c",
   "metadata": {},
   "source": [
    "## Tuples"
   ]
  },
  {
   "cell_type": "code",
   "execution_count": null,
   "id": "8c3b9a25",
   "metadata": {},
   "outputs": [],
   "source": [
    "T"
   ]
  },
  {
   "cell_type": "code",
   "execution_count": null,
   "id": "f4e443e2",
   "metadata": {},
   "outputs": [],
   "source": [
    "T[3]"
   ]
  },
  {
   "cell_type": "code",
   "execution_count": null,
   "id": "648f0817",
   "metadata": {},
   "outputs": [],
   "source": [
    "T2 = T\n",
    "T3 = T + T2 #adding tuples together\n",
    "print(T2)\n",
    "print(T3)"
   ]
  },
  {
   "cell_type": "code",
   "execution_count": null,
   "id": "0fb24c8c",
   "metadata": {},
   "outputs": [],
   "source": [
    "del T"
   ]
  },
  {
   "cell_type": "code",
   "execution_count": null,
   "id": "43a3ffb0",
   "metadata": {},
   "outputs": [],
   "source": [
    "T"
   ]
  },
  {
   "cell_type": "markdown",
   "id": "68edb804",
   "metadata": {},
   "source": [
    "## Sets"
   ]
  },
  {
   "cell_type": "markdown",
   "id": "2766ab4b",
   "metadata": {},
   "source": [
    "Sets are displayed in {} brackets, but are an unordered set of items that can include many different python types; int, words, etc... Sets also do not have duplicates values in them."
   ]
  },
  {
   "cell_type": "code",
   "execution_count": null,
   "id": "fdb7fef2",
   "metadata": {},
   "outputs": [],
   "source": [
    "S"
   ]
  },
  {
   "cell_type": "code",
   "execution_count": null,
   "id": "bcf203a3",
   "metadata": {},
   "outputs": [],
   "source": [
    "'new' in S"
   ]
  },
  {
   "cell_type": "code",
   "execution_count": null,
   "id": "d85d22ed",
   "metadata": {},
   "outputs": [],
   "source": [
    "S.add('old')\n",
    "S.remove(12.12)"
   ]
  },
  {
   "cell_type": "code",
   "execution_count": null,
   "id": "534872bc",
   "metadata": {},
   "outputs": [],
   "source": [
    "S2 = S.copy()"
   ]
  },
  {
   "cell_type": "code",
   "execution_count": null,
   "id": "9d92a0e1",
   "metadata": {},
   "outputs": [],
   "source": [
    "S2"
   ]
  },
  {
   "cell_type": "markdown",
   "id": "3ba8ed78",
   "metadata": {},
   "source": [
    "Converting a List to a Set"
   ]
  },
  {
   "cell_type": "code",
   "execution_count": null,
   "id": "979ae1f5",
   "metadata": {},
   "outputs": [],
   "source": [
    "L"
   ]
  },
  {
   "cell_type": "code",
   "execution_count": null,
   "id": "fa2c96f0",
   "metadata": {},
   "outputs": [],
   "source": [
    "oldList_toNew_set = set(L)\n",
    "oldList_toNew_set"
   ]
  },
  {
   "cell_type": "code",
   "execution_count": null,
   "id": "54fba2cf",
   "metadata": {},
   "outputs": [],
   "source": [
    "type(oldList_toNew_set)"
   ]
  },
  {
   "cell_type": "code",
   "execution_count": null,
   "id": "8344535f",
   "metadata": {},
   "outputs": [],
   "source": [
    "# using the & operator to join 'like' items from two sets into one set.. finding the similarites in sets\n",
    "S1 = {1,2,3,'dude'}\n",
    "S2 = {1,2,3, 'man'}\n",
    "S3 = S1 & S2\n",
    "S3"
   ]
  },
  {
   "cell_type": "code",
   "execution_count": null,
   "id": "a9e97f0b",
   "metadata": {},
   "outputs": [],
   "source": [
    "# the same idea as above\n",
    "S1.intersection(S2)"
   ]
  },
  {
   "cell_type": "code",
   "execution_count": null,
   "id": "157c977b",
   "metadata": {},
   "outputs": [],
   "source": [
    "# .union will join sets together with all items in the sets\n",
    "S1.union(S2)"
   ]
  },
  {
   "cell_type": "code",
   "execution_count": null,
   "id": "35795d2b",
   "metadata": {},
   "outputs": [],
   "source": [
    "# which set is a subset of the other set?\n",
    "S1.issubset(S2)"
   ]
  },
  {
   "cell_type": "code",
   "execution_count": null,
   "id": "2920299f",
   "metadata": {},
   "outputs": [],
   "source": [
    "S2.issubset(S1)"
   ]
  },
  {
   "cell_type": "code",
   "execution_count": null,
   "id": "ea974cd2",
   "metadata": {},
   "outputs": [],
   "source": [
    "S3.issubset(S1)"
   ]
  },
  {
   "cell_type": "code",
   "execution_count": null,
   "id": "4fcf91ec",
   "metadata": {
    "scrolled": true
   },
   "outputs": [],
   "source": [
    "S3.issubset(S2)"
   ]
  },
  {
   "cell_type": "code",
   "execution_count": null,
   "id": "3848ada3",
   "metadata": {},
   "outputs": [],
   "source": [
    "# which one is superset?\n",
    "S1.issuperset(S3)"
   ]
  },
  {
   "cell_type": "code",
   "execution_count": null,
   "id": "995f6bdb",
   "metadata": {},
   "outputs": [],
   "source": [
    "S1.difference(S2)"
   ]
  },
  {
   "cell_type": "code",
   "execution_count": null,
   "id": "0cf315ef",
   "metadata": {},
   "outputs": [],
   "source": [
    "S2.difference(S1)"
   ]
  },
  {
   "cell_type": "code",
   "execution_count": null,
   "id": "acb7eef2",
   "metadata": {},
   "outputs": [],
   "source": [
    "# A is a list, and B is a set..\n",
    "A = [1, 2, 2, 1]  \n",
    "B = set([1, 2, 2, 1])\n",
    "print(\"the sum of A is:\", sum(A))\n",
    "print(\"the sum of B is:\", sum(B))"
   ]
  },
  {
   "cell_type": "markdown",
   "id": "e6464c5f",
   "metadata": {},
   "source": [
    "## Dictionary"
   ]
  },
  {
   "cell_type": "markdown",
   "id": "b2b4f3e5",
   "metadata": {},
   "source": [
    "Dictionarys can be thought of as tables, with the key being the first column, and the value associated with subsequent columns to access. Keys can only be strings, numbers, or tuples, but values can be any data type.  Multiple keys can hold the same values, and for every one key, there is only one corresponding value."
   ]
  },
  {
   "cell_type": "code",
   "execution_count": null,
   "id": "bf6278aa",
   "metadata": {},
   "outputs": [],
   "source": [
    "D"
   ]
  },
  {
   "cell_type": "code",
   "execution_count": null,
   "id": "3843caa0",
   "metadata": {},
   "outputs": [],
   "source": [
    "D['one']"
   ]
  },
  {
   "cell_type": "code",
   "execution_count": null,
   "id": "a01de856",
   "metadata": {},
   "outputs": [],
   "source": [
    "D['one'] = 'nineteen!!!!'\n",
    "D['76er'] = 'twelve point throw'"
   ]
  },
  {
   "cell_type": "code",
   "execution_count": null,
   "id": "c92d1855",
   "metadata": {},
   "outputs": [],
   "source": [
    "D"
   ]
  },
  {
   "cell_type": "code",
   "execution_count": null,
   "id": "f6474667",
   "metadata": {},
   "outputs": [],
   "source": [
    "del D['76er']"
   ]
  },
  {
   "cell_type": "code",
   "execution_count": null,
   "id": "884e5fab",
   "metadata": {},
   "outputs": [],
   "source": [
    "D"
   ]
  },
  {
   "cell_type": "code",
   "execution_count": null,
   "id": "721f0b83",
   "metadata": {},
   "outputs": [],
   "source": [
    "D2 = D.copy()"
   ]
  },
  {
   "cell_type": "code",
   "execution_count": null,
   "id": "ddfb49d5",
   "metadata": {},
   "outputs": [],
   "source": [
    "D2"
   ]
  },
  {
   "cell_type": "markdown",
   "id": "e92221d0",
   "metadata": {},
   "source": [
    "There are other methods to remove and add items to these data structures as well. Play around."
   ]
  },
  {
   "cell_type": "code",
   "execution_count": null,
   "id": "8861a483",
   "metadata": {},
   "outputs": [],
   "source": [
    "D3 = {'playing':'field','notes':'dice','smoke':'mirrors'}"
   ]
  },
  {
   "cell_type": "code",
   "execution_count": null,
   "id": "b8804441",
   "metadata": {},
   "outputs": [],
   "source": [
    "D2.update(D3)"
   ]
  },
  {
   "cell_type": "code",
   "execution_count": null,
   "id": "ee703fd3",
   "metadata": {},
   "outputs": [],
   "source": [
    "D2"
   ]
  },
  {
   "cell_type": "code",
   "execution_count": null,
   "id": "60f19e50",
   "metadata": {},
   "outputs": [],
   "source": [
    "D2 + D3 = D4  "
   ]
  },
  {
   "cell_type": "code",
   "execution_count": null,
   "id": "448fdb9e",
   "metadata": {},
   "outputs": [],
   "source": [
    "D5 = {'outside cat': ['cool','pouncing','attack cat!'], \n",
    "     'anime': ['exciting',1,'what do you know about anything anyways'],\n",
    "      'you get the idea':[1,2,12.2]}"
   ]
  },
  {
   "cell_type": "code",
   "execution_count": null,
   "id": "c07dd52f",
   "metadata": {},
   "outputs": [],
   "source": [
    "D5['outside cat']"
   ]
  },
  {
   "cell_type": "code",
   "execution_count": null,
   "id": "4af268bd",
   "metadata": {},
   "outputs": [],
   "source": [
    "'outside cat' in D5"
   ]
  },
  {
   "cell_type": "code",
   "execution_count": null,
   "id": "d251f265",
   "metadata": {},
   "outputs": [],
   "source": [
    "'stargazer' in D5"
   ]
  },
  {
   "cell_type": "code",
   "execution_count": null,
   "id": "02cab316",
   "metadata": {},
   "outputs": [],
   "source": [
    "D5.keys()"
   ]
  },
  {
   "cell_type": "code",
   "execution_count": null,
   "id": "6313a308",
   "metadata": {},
   "outputs": [],
   "source": [
    "D5.values()"
   ]
  },
  {
   "cell_type": "markdown",
   "id": "bf5e72a7",
   "metadata": {},
   "source": [
    "# Python List Referencing"
   ]
  },
  {
   "cell_type": "code",
   "execution_count": null,
   "id": "6ada526f",
   "metadata": {},
   "outputs": [],
   "source": [
    "L"
   ]
  },
  {
   "cell_type": "code",
   "execution_count": null,
   "id": "576d6c00",
   "metadata": {},
   "outputs": [],
   "source": [
    "L2 = L"
   ]
  },
  {
   "cell_type": "markdown",
   "id": "044f32bf",
   "metadata": {},
   "source": [
    "L2 and L are 2 separate lists, but because Python is saving space, both are referenced in the same reference file in Python memory. When I change one data point in one copy of a list, both points will change."
   ]
  },
  {
   "cell_type": "code",
   "execution_count": null,
   "id": "a2cdddc0",
   "metadata": {},
   "outputs": [],
   "source": [
    "L2[2] = 'twelve point twelve'"
   ]
  },
  {
   "cell_type": "code",
   "execution_count": null,
   "id": "653398ed",
   "metadata": {},
   "outputs": [],
   "source": [
    "L"
   ]
  },
  {
   "cell_type": "markdown",
   "id": "dea6bdb6",
   "metadata": {},
   "source": [
    "To bypass this, use the \"variable.copy()\" function and you will have 2 separate lists you can modify. This is the same for the other data structures that can be modified."
   ]
  },
  {
   "cell_type": "code",
   "execution_count": null,
   "id": "4df3290f",
   "metadata": {},
   "outputs": [],
   "source": [
    "L2 = L.copy()"
   ]
  },
  {
   "cell_type": "code",
   "execution_count": null,
   "id": "f2e1f502",
   "metadata": {},
   "outputs": [],
   "source": [
    "L"
   ]
  },
  {
   "cell_type": "code",
   "execution_count": null,
   "id": "4974480c",
   "metadata": {},
   "outputs": [],
   "source": [
    "L2"
   ]
  },
  {
   "cell_type": "code",
   "execution_count": null,
   "id": "211ede21",
   "metadata": {},
   "outputs": [],
   "source": [
    "L2[2] = 12.12"
   ]
  },
  {
   "cell_type": "code",
   "execution_count": null,
   "id": "43d7d29c",
   "metadata": {},
   "outputs": [],
   "source": [
    "L"
   ]
  },
  {
   "cell_type": "code",
   "execution_count": null,
   "id": "b44837a4",
   "metadata": {},
   "outputs": [],
   "source": [
    "L2"
   ]
  },
  {
   "cell_type": "code",
   "execution_count": null,
   "id": "1ea36613",
   "metadata": {},
   "outputs": [],
   "source": [
    "L3 = L[1:3]"
   ]
  },
  {
   "cell_type": "code",
   "execution_count": null,
   "id": "d36863d5",
   "metadata": {},
   "outputs": [],
   "source": [
    "L3"
   ]
  },
  {
   "cell_type": "code",
   "execution_count": null,
   "id": "66a9bf83",
   "metadata": {},
   "outputs": [],
   "source": [
    "L4 = [x**2 for x in range(10)]"
   ]
  },
  {
   "cell_type": "code",
   "execution_count": null,
   "id": "13451b71",
   "metadata": {},
   "outputs": [],
   "source": [
    "L4"
   ]
  },
  {
   "cell_type": "markdown",
   "id": "a9387203",
   "metadata": {},
   "source": [
    "# [NumPy](https://numpy.org/)"
   ]
  },
  {
   "cell_type": "code",
   "execution_count": null,
   "id": "1b6a007d",
   "metadata": {},
   "outputs": [],
   "source": [
    "import numpy as np"
   ]
  },
  {
   "cell_type": "code",
   "execution_count": null,
   "id": "e232de07",
   "metadata": {},
   "outputs": [],
   "source": [
    "a = np.array([1,2,3,4,6]) #List\n",
    "b = np.array((2.12,3.13,5),dtype = 'f') #tuple, with data type \"float\""
   ]
  },
  {
   "cell_type": "code",
   "execution_count": null,
   "id": "a99980c2",
   "metadata": {},
   "outputs": [],
   "source": [
    "print(a)"
   ]
  },
  {
   "cell_type": "code",
   "execution_count": null,
   "id": "d0722cad",
   "metadata": {},
   "outputs": [],
   "source": [
    "print(b)"
   ]
  },
  {
   "cell_type": "code",
   "execution_count": null,
   "id": "3795992d",
   "metadata": {},
   "outputs": [],
   "source": [
    "type(a)"
   ]
  },
  {
   "cell_type": "code",
   "execution_count": null,
   "id": "b8ab124b",
   "metadata": {},
   "outputs": [],
   "source": [
    "type(b)"
   ]
  },
  {
   "cell_type": "code",
   "execution_count": null,
   "id": "ce79e1d8",
   "metadata": {},
   "outputs": [],
   "source": [
    "a.dtype"
   ]
  },
  {
   "cell_type": "code",
   "execution_count": null,
   "id": "265146d6",
   "metadata": {},
   "outputs": [],
   "source": [
    "b.dtype"
   ]
  },
  {
   "cell_type": "code",
   "execution_count": null,
   "id": "7ed803c8",
   "metadata": {},
   "outputs": [],
   "source": [
    "\n",
    "X=np.array([[1,0],[0,1]])\n",
    "Y=np.array([[2,2],[2,2]])\n",
    "Z=np.dot(X,Y)\n",
    "Z"
   ]
  },
  {
   "cell_type": "markdown",
   "id": "2fb32669",
   "metadata": {},
   "source": [
    "# Dimensions in Numpy"
   ]
  },
  {
   "cell_type": "code",
   "execution_count": null,
   "id": "0096123a",
   "metadata": {},
   "outputs": [],
   "source": [
    "a #one dimensional list"
   ]
  },
  {
   "cell_type": "code",
   "execution_count": null,
   "id": "e1570f47",
   "metadata": {},
   "outputs": [],
   "source": [
    "a1 = np.array([[2, 3, 4], [4,3,2]]) #two dimensional list"
   ]
  },
  {
   "cell_type": "code",
   "execution_count": null,
   "id": "40f3c959",
   "metadata": {},
   "outputs": [],
   "source": [
    "a1.ndim #how many dimensions in my variable"
   ]
  },
  {
   "cell_type": "code",
   "execution_count": null,
   "id": "0d5c4684",
   "metadata": {},
   "outputs": [],
   "source": [
    "a1[0,2]"
   ]
  },
  {
   "cell_type": "code",
   "execution_count": null,
   "id": "abcbdb0c",
   "metadata": {},
   "outputs": [],
   "source": [
    "B = np.array([[1,2,3],[2,4,5,9]])"
   ]
  },
  {
   "cell_type": "code",
   "execution_count": null,
   "id": "221a92ed",
   "metadata": {},
   "outputs": [],
   "source": [
    "B = np.array([[1,2,3],[2,4,5,9]],dtype = int)"
   ]
  },
  {
   "cell_type": "markdown",
   "id": "1cd736b5",
   "metadata": {},
   "source": [
    "After looking these errors and warning messages up, it seems the warning message, line [32] is correct. not sure why it is telling me to put a dtype=object in which causes an error message to occur.. The dimensional type is just single dimension until the items in both list values in the array are equal to each other."
   ]
  },
  {
   "cell_type": "code",
   "execution_count": null,
   "id": "a697a315",
   "metadata": {},
   "outputs": [],
   "source": [
    "B.ndim"
   ]
  },
  {
   "cell_type": "code",
   "execution_count": null,
   "id": "bfe3c63d",
   "metadata": {},
   "outputs": [],
   "source": [
    "C = np.array([[[1,2,3], [4,5,6]], [[0,0,-1],[-1,-2,-3]]])"
   ]
  },
  {
   "cell_type": "code",
   "execution_count": null,
   "id": "c56bd8c8",
   "metadata": {},
   "outputs": [],
   "source": [
    "C.ndim"
   ]
  },
  {
   "cell_type": "code",
   "execution_count": null,
   "id": "1aa77be7",
   "metadata": {},
   "outputs": [],
   "source": [
    "C[1,0,2] "
   ]
  },
  {
   "cell_type": "code",
   "execution_count": null,
   "id": "1c8fc7ea",
   "metadata": {},
   "outputs": [],
   "source": [
    "C[0,0,0]"
   ]
  },
  {
   "cell_type": "code",
   "execution_count": null,
   "id": "4e452f0c",
   "metadata": {},
   "outputs": [],
   "source": [
    "'''how many 2 dimensional arrays in variable,\n",
    "how many 1 dimensional arrays in each dimension,\n",
    "how many elements in each dimensional array'''\n",
    "C.shape #how many 2 dimensional arrays in variable, how many "
   ]
  },
  {
   "cell_type": "code",
   "execution_count": null,
   "id": "6cdc2b38",
   "metadata": {},
   "outputs": [],
   "source": [
    "A = np.array([2])\n",
    "D = np.array(2)"
   ]
  },
  {
   "cell_type": "code",
   "execution_count": null,
   "id": "5fca775f",
   "metadata": {},
   "outputs": [],
   "source": [
    "A.ndim"
   ]
  },
  {
   "cell_type": "code",
   "execution_count": null,
   "id": "6619f5d4",
   "metadata": {},
   "outputs": [],
   "source": [
    "D.ndim"
   ]
  },
  {
   "cell_type": "code",
   "execution_count": null,
   "id": "35886a8f",
   "metadata": {},
   "outputs": [],
   "source": [
    "C.size #number of elements in variable"
   ]
  },
  {
   "cell_type": "markdown",
   "id": "16d60f0f",
   "metadata": {},
   "source": [
    "# Arrange, reshape, random"
   ]
  },
  {
   "cell_type": "code",
   "execution_count": null,
   "id": "4f07efd0",
   "metadata": {},
   "outputs": [],
   "source": [
    "A = np.arange(100)"
   ]
  },
  {
   "cell_type": "code",
   "execution_count": null,
   "id": "35fe9fe4",
   "metadata": {},
   "outputs": [],
   "source": [
    "print(A)"
   ]
  },
  {
   "cell_type": "code",
   "execution_count": null,
   "id": "eeb74197",
   "metadata": {},
   "outputs": [],
   "source": [
    "A = np.arange(23,174,5) #for i in range(23,174,5)"
   ]
  },
  {
   "cell_type": "code",
   "execution_count": null,
   "id": "dc9c37a5",
   "metadata": {},
   "outputs": [],
   "source": [
    "print(A)"
   ]
  },
  {
   "cell_type": "code",
   "execution_count": null,
   "id": "b08e71f3",
   "metadata": {},
   "outputs": [],
   "source": [
    "print(range(0,19))"
   ]
  },
  {
   "cell_type": "code",
   "execution_count": null,
   "id": "74f7f3e5",
   "metadata": {},
   "outputs": [],
   "source": [
    "A = np.random.permutation(np.arange(10))\n",
    "print(A)"
   ]
  },
  {
   "cell_type": "code",
   "execution_count": null,
   "id": "55bf0957",
   "metadata": {},
   "outputs": [],
   "source": [
    "np.random.randint(1,12)"
   ]
  },
  {
   "cell_type": "code",
   "execution_count": null,
   "id": "0b2315ab",
   "metadata": {},
   "outputs": [],
   "source": [
    "A = np.random.rand(1000) #random array generated"
   ]
  },
  {
   "cell_type": "code",
   "execution_count": null,
   "id": "92a3ba1f",
   "metadata": {},
   "outputs": [],
   "source": [
    "A"
   ]
  },
  {
   "cell_type": "code",
   "execution_count": null,
   "id": "eb5405d0",
   "metadata": {},
   "outputs": [],
   "source": [
    "import matplotlib.pyplot as plt"
   ]
  },
  {
   "cell_type": "code",
   "execution_count": null,
   "id": "14af9317",
   "metadata": {},
   "outputs": [],
   "source": [
    "plt.hist(A)"
   ]
  },
  {
   "cell_type": "code",
   "execution_count": null,
   "id": "09d7c150",
   "metadata": {},
   "outputs": [],
   "source": [
    "plt.hist(A,bins = 100)"
   ]
  },
  {
   "cell_type": "code",
   "execution_count": null,
   "id": "97966c1a",
   "metadata": {},
   "outputs": [],
   "source": [
    "B = np.random.randn(10000)\n",
    "plt.hist(B,bins=200)"
   ]
  },
  {
   "cell_type": "code",
   "execution_count": null,
   "id": "d413d8fa",
   "metadata": {},
   "outputs": [],
   "source": [
    "C = np.random.rand(2,3) #random 2 dimensional matrix with 3 elements in them"
   ]
  },
  {
   "cell_type": "code",
   "execution_count": null,
   "id": "16601512",
   "metadata": {},
   "outputs": [],
   "source": [
    "C"
   ]
  },
  {
   "cell_type": "code",
   "execution_count": null,
   "id": "b7c2fc28",
   "metadata": {},
   "outputs": [],
   "source": [
    "C = np.random.rand(2,3,4,2)"
   ]
  },
  {
   "cell_type": "code",
   "execution_count": null,
   "id": "92ac6657",
   "metadata": {},
   "outputs": [],
   "source": [
    "C.ndim"
   ]
  },
  {
   "cell_type": "code",
   "execution_count": null,
   "id": "74214d9a",
   "metadata": {},
   "outputs": [],
   "source": [
    "D = np.arange(100).reshape(4,25) #matrix with 100 elemnts in a 2 dimensional, 4 x 25 array"
   ]
  },
  {
   "cell_type": "code",
   "execution_count": null,
   "id": "fc674e56",
   "metadata": {},
   "outputs": [],
   "source": [
    "D.shape"
   ]
  },
  {
   "cell_type": "markdown",
   "id": "88b33dc9",
   "metadata": {},
   "source": [
    "# Slicing with Numpy"
   ]
  },
  {
   "cell_type": "code",
   "execution_count": null,
   "id": "ba463110",
   "metadata": {},
   "outputs": [],
   "source": [
    "A = np.arange(25)"
   ]
  },
  {
   "cell_type": "code",
   "execution_count": null,
   "id": "c366e2dd",
   "metadata": {},
   "outputs": [],
   "source": [
    "b = A[3:10]\n",
    "print(b)"
   ]
  },
  {
   "cell_type": "code",
   "execution_count": null,
   "id": "02169a54",
   "metadata": {},
   "outputs": [],
   "source": [
    "b[0] = -12"
   ]
  },
  {
   "cell_type": "code",
   "execution_count": null,
   "id": "6f719895",
   "metadata": {},
   "outputs": [],
   "source": [
    "A"
   ]
  },
  {
   "cell_type": "code",
   "execution_count": null,
   "id": "f96804b2",
   "metadata": {},
   "outputs": [],
   "source": [
    "A[::3]"
   ]
  },
  {
   "cell_type": "code",
   "execution_count": null,
   "id": "a26c53ba",
   "metadata": {},
   "outputs": [],
   "source": [
    "A[::-1]"
   ]
  },
  {
   "cell_type": "code",
   "execution_count": null,
   "id": "97b57605",
   "metadata": {},
   "outputs": [],
   "source": [
    "A = np.round(10*np.random.rand(5,4))"
   ]
  },
  {
   "cell_type": "code",
   "execution_count": null,
   "id": "aca0e402",
   "metadata": {},
   "outputs": [],
   "source": [
    "A"
   ]
  },
  {
   "cell_type": "code",
   "execution_count": null,
   "id": "56132d60",
   "metadata": {},
   "outputs": [],
   "source": [
    "A[1,2]"
   ]
  },
  {
   "cell_type": "code",
   "execution_count": null,
   "id": "c8bd66b6",
   "metadata": {},
   "outputs": [],
   "source": [
    "A[1,:] #row"
   ]
  },
  {
   "cell_type": "code",
   "execution_count": null,
   "id": "2ebb56a1",
   "metadata": {},
   "outputs": [],
   "source": [
    "A[:,1] #column"
   ]
  },
  {
   "cell_type": "code",
   "execution_count": null,
   "id": "10b252ac",
   "metadata": {},
   "outputs": [],
   "source": [
    "A[1:3,2:1]"
   ]
  },
  {
   "cell_type": "code",
   "execution_count": null,
   "id": "a3d22af0",
   "metadata": {},
   "outputs": [],
   "source": [
    "import numpy.linalg as la  #linear algebra package in numpy"
   ]
  },
  {
   "cell_type": "code",
   "execution_count": null,
   "id": "d71495eb",
   "metadata": {},
   "outputs": [],
   "source": [
    "la.inv(np.random.rand(3,3))"
   ]
  },
  {
   "cell_type": "code",
   "execution_count": null,
   "id": "e4b4def6",
   "metadata": {},
   "outputs": [],
   "source": [
    "A.sort(axis = 0)\n",
    "A"
   ]
  },
  {
   "cell_type": "code",
   "execution_count": null,
   "id": "0a7e3207",
   "metadata": {},
   "outputs": [],
   "source": [
    "b = np.arange(50)\n",
    "b"
   ]
  },
  {
   "cell_type": "code",
   "execution_count": null,
   "id": "02ce4c9c",
   "metadata": {},
   "outputs": [],
   "source": [
    "C = b[(b<20) & (b>40)] # the '&' is used for arrays"
   ]
  },
  {
   "cell_type": "code",
   "execution_count": null,
   "id": "2b75976c",
   "metadata": {},
   "outputs": [],
   "source": [
    "print(C) #it worked in the video, not sure what the problem is"
   ]
  },
  {
   "cell_type": "markdown",
   "id": "84b8476e",
   "metadata": {},
   "source": [
    "& operator is = to 'and'\n",
    "| operator is = to 'or'\n",
    "~ operator is = to 'not'"
   ]
  },
  {
   "cell_type": "markdown",
   "id": "4a97d02b",
   "metadata": {},
   "source": [
    "# Broadcasting"
   ]
  },
  {
   "cell_type": "code",
   "execution_count": null,
   "id": "eb313810",
   "metadata": {},
   "outputs": [],
   "source": [
    "A = np.round(np.random.rand(2,3))"
   ]
  },
  {
   "cell_type": "code",
   "execution_count": null,
   "id": "6c5ca64f",
   "metadata": {},
   "outputs": [],
   "source": [
    "A"
   ]
  },
  {
   "cell_type": "code",
   "execution_count": null,
   "id": "6f85e507",
   "metadata": {},
   "outputs": [],
   "source": [
    "A + 1"
   ]
  },
  {
   "cell_type": "code",
   "execution_count": null,
   "id": "9458a06c",
   "metadata": {},
   "outputs": [],
   "source": [
    "A + (np.arange(2).reshape(2,1))"
   ]
  },
  {
   "cell_type": "code",
   "execution_count": null,
   "id": "4967b865",
   "metadata": {},
   "outputs": [],
   "source": [
    "B = np.round(10*np.random.rand(2,2))\n",
    "B"
   ]
  },
  {
   "cell_type": "code",
   "execution_count": null,
   "id": "de0f0139",
   "metadata": {},
   "outputs": [],
   "source": [
    "C = np.hstack((A,B))\n",
    "C"
   ]
  },
  {
   "cell_type": "code",
   "execution_count": null,
   "id": "cd1902d3",
   "metadata": {},
   "outputs": [],
   "source": [
    "A = np.random.permutation(np.arange(10))\n",
    "A"
   ]
  },
  {
   "cell_type": "code",
   "execution_count": null,
   "id": "8b360154",
   "metadata": {},
   "outputs": [],
   "source": [
    "A.sort()\n",
    "A"
   ]
  },
  {
   "cell_type": "code",
   "execution_count": null,
   "id": "156cdd69",
   "metadata": {},
   "outputs": [],
   "source": [
    "A = A[::-1]\n",
    "A"
   ]
  },
  {
   "cell_type": "code",
   "execution_count": null,
   "id": "1774f322",
   "metadata": {},
   "outputs": [],
   "source": [
    "A = np.array(['abc','house'])\n",
    "A"
   ]
  },
  {
   "cell_type": "markdown",
   "id": "93e08614",
   "metadata": {},
   "source": [
    "# Universal functions in Numpy"
   ]
  },
  {
   "cell_type": "code",
   "execution_count": null,
   "id": "250959c5",
   "metadata": {},
   "outputs": [],
   "source": [
    "B = np.random.rand(1000000)\n",
    "%timeit sum(B)\n",
    "%timeit np.sum(B)  #B.sum()"
   ]
  },
  {
   "cell_type": "code",
   "execution_count": null,
   "id": "5febe522",
   "metadata": {},
   "outputs": [],
   "source": [
    "def mySum(G):\n",
    "    s = 0\n",
    "    for x in (G):\n",
    "        s+=x\n",
    "    return s"
   ]
  },
  {
   "cell_type": "code",
   "execution_count": null,
   "id": "6af7c0c1",
   "metadata": {},
   "outputs": [],
   "source": [
    "%timeit mySum(B)"
   ]
  },
  {
   "cell_type": "markdown",
   "id": "579a7879",
   "metadata": {},
   "source": [
    "Avoid loops while working in Numpy, the functions that are built into the Numpy program are much faster than anything you can build. Numpy is built into Matplotlib and Pandas as well."
   ]
  },
  {
   "cell_type": "markdown",
   "id": "afbb65e7",
   "metadata": {},
   "source": [
    "# [Pandas](https://pandas.pydata.org/)"
   ]
  },
  {
   "cell_type": "code",
   "execution_count": null,
   "id": "b114f520",
   "metadata": {},
   "outputs": [],
   "source": [
    "import pandas as pd"
   ]
  },
  {
   "cell_type": "code",
   "execution_count": null,
   "id": "96b4008f",
   "metadata": {},
   "outputs": [],
   "source": [
    "print(pd.__version__) #tutorial version was 0.24.2"
   ]
  },
  {
   "cell_type": "code",
   "execution_count": null,
   "id": "65f895a4",
   "metadata": {},
   "outputs": [],
   "source": [
    "A = pd.Series([2,3,4,5],index=['a','b','c','d'])"
   ]
  },
  {
   "cell_type": "code",
   "execution_count": null,
   "id": "cc55c602",
   "metadata": {},
   "outputs": [],
   "source": [
    "A.values"
   ]
  },
  {
   "cell_type": "code",
   "execution_count": null,
   "id": "c3ad56cf",
   "metadata": {},
   "outputs": [],
   "source": [
    "type(A.values)"
   ]
  },
  {
   "cell_type": "code",
   "execution_count": null,
   "id": "dc317258",
   "metadata": {},
   "outputs": [],
   "source": [
    "type(A)"
   ]
  },
  {
   "cell_type": "code",
   "execution_count": null,
   "id": "e6de6e68",
   "metadata": {},
   "outputs": [],
   "source": [
    "A.index"
   ]
  },
  {
   "cell_type": "code",
   "execution_count": null,
   "id": "262d8e56",
   "metadata": {},
   "outputs": [],
   "source": [
    "A['a'] #access like a dictionary"
   ]
  },
  {
   "cell_type": "code",
   "execution_count": null,
   "id": "43642e88",
   "metadata": {},
   "outputs": [],
   "source": [
    "A['a':'c'] #slicing"
   ]
  },
  {
   "cell_type": "code",
   "execution_count": null,
   "id": "ccf1517b",
   "metadata": {},
   "outputs": [],
   "source": [
    "grades_dict = {'A': 4,'A-':3.5,'B':3,'B-':2.5,'C':2,'C-':1.5,'D':1,'D-':0.5,'F':0}\n",
    "gpa = pd.Series(grades_dict)"
   ]
  },
  {
   "cell_type": "code",
   "execution_count": null,
   "id": "1f63d900",
   "metadata": {},
   "outputs": [],
   "source": [
    "grades.values"
   ]
  },
  {
   "cell_type": "code",
   "execution_count": null,
   "id": "6801ac52",
   "metadata": {},
   "outputs": [],
   "source": [
    "prcnt_dict = {'A':90,'A-':85,'B':80,'B-':75,'C':70,'C-':65,'D':60,'D-':55,'F':50}\n",
    "percent = pd.Series(prcnt_dict)"
   ]
  },
  {
   "cell_type": "code",
   "execution_count": null,
   "id": "b546c02a",
   "metadata": {},
   "outputs": [],
   "source": [
    "percent.values"
   ]
  },
  {
   "cell_type": "code",
   "execution_count": null,
   "id": "4c2f0c16",
   "metadata": {},
   "outputs": [],
   "source": [
    "percent"
   ]
  },
  {
   "cell_type": "code",
   "execution_count": null,
   "id": "54be8153",
   "metadata": {},
   "outputs": [],
   "source": [
    "percent['C'] #idx"
   ]
  },
  {
   "cell_type": "code",
   "execution_count": null,
   "id": "e7a5b920",
   "metadata": {},
   "outputs": [],
   "source": [
    "percent['B':'C-'] #slicing"
   ]
  },
  {
   "cell_type": "markdown",
   "id": "5b132283",
   "metadata": {},
   "source": [
    "### putting .csv or .xlsx files into a data frame"
   ]
  },
  {
   "cell_type": "markdown",
   "id": "ab875ebd",
   "metadata": {},
   "source": [
    "#### .csv file\n",
    "variable = 'file path.csv'                                                                                                     \n",
    "df = pandas.read_csv(variable)                                                                                                 \n",
    "df.head()                                                                                                                      "
   ]
  },
  {
   "cell_type": "markdown",
   "id": "0b45ba3d",
   "metadata": {},
   "source": [
    "#### .xlsx file\n",
    "\n",
    "variable = 'file path.xlsx'                                                                                                     \n",
    "df = pandas.read_excel(variable)                                                                                               \n",
    "df.head()"
   ]
  },
  {
   "cell_type": "markdown",
   "id": "42e80404",
   "metadata": {},
   "source": [
    "Data Frames are only set through dictionarys. Keys are columns, and values are rows.                                           \n",
    "variable = pandas.DataFrame(dictionary)                                                                                         \n",
    "From an existing Data Frame, you can create a second Data Frame/table/chart using the keys from the dictionary, or the column headers. Use double brackets for this - [[]]                                                                                  \n",
    "x = df[['key1','key3','key7']]"
   ]
  },
  {
   "cell_type": "markdown",
   "id": "97cfa904",
   "metadata": {},
   "source": [
    "# Data Frame package in Pandas"
   ]
  },
  {
   "cell_type": "code",
   "execution_count": null,
   "id": "e4c8560c",
   "metadata": {},
   "outputs": [],
   "source": [
    "gpa"
   ]
  },
  {
   "cell_type": "code",
   "execution_count": null,
   "id": "25e2a6af",
   "metadata": {},
   "outputs": [],
   "source": [
    "D = pd.DataFrame({'Percent':percent,'GPA':gpa})"
   ]
  },
  {
   "cell_type": "code",
   "execution_count": null,
   "id": "32b756c4",
   "metadata": {},
   "outputs": [],
   "source": [
    "D #once the data frame is changed, you cannot reset it without deleting some things first.. "
   ]
  },
  {
   "cell_type": "code",
   "execution_count": null,
   "id": "62fcba9c",
   "metadata": {},
   "outputs": [],
   "source": [
    "D.T #transpose data"
   ]
  },
  {
   "cell_type": "code",
   "execution_count": null,
   "id": "82ede202",
   "metadata": {},
   "outputs": [],
   "source": [
    "D.values"
   ]
  },
  {
   "cell_type": "code",
   "execution_count": null,
   "id": "003f03bc",
   "metadata": {},
   "outputs": [],
   "source": [
    "D.values[2,0]"
   ]
  },
  {
   "cell_type": "code",
   "execution_count": null,
   "id": "db45b9db",
   "metadata": {},
   "outputs": [],
   "source": [
    "D.columns"
   ]
  },
  {
   "cell_type": "markdown",
   "id": "bffd0af1",
   "metadata": {},
   "source": [
    "Adding a new column to a Data Frame"
   ]
  },
  {
   "cell_type": "code",
   "execution_count": null,
   "id": "ad1c2481",
   "metadata": {},
   "outputs": [],
   "source": [
    "D['Class Ranking'] = (D['Percent']/10)"
   ]
  },
  {
   "cell_type": "code",
   "execution_count": null,
   "id": "0c5019f8",
   "metadata": {},
   "outputs": [],
   "source": [
    "D"
   ]
  },
  {
   "cell_type": "code",
   "execution_count": null,
   "id": "4c781f61",
   "metadata": {},
   "outputs": [],
   "source": [
    "del D['Class Ranking']"
   ]
  },
  {
   "cell_type": "code",
   "execution_count": null,
   "id": "59485463",
   "metadata": {},
   "outputs": [],
   "source": [
    "D"
   ]
  },
  {
   "cell_type": "code",
   "execution_count": null,
   "id": "7af87c6f",
   "metadata": {},
   "outputs": [],
   "source": [
    "G = D[D['Percent']>70]"
   ]
  },
  {
   "cell_type": "code",
   "execution_count": null,
   "id": "240ca5f4",
   "metadata": {},
   "outputs": [],
   "source": [
    "G"
   ]
  },
  {
   "cell_type": "markdown",
   "id": "ef4ae005",
   "metadata": {},
   "source": [
    "df[column heading/key].unique() will return a unique list of values inside that column. This is helpful if you have lots of data. "
   ]
  },
  {
   "cell_type": "markdown",
   "id": "7c25b70d",
   "metadata": {},
   "source": [
    "# NaN (Not a Number) Pandas"
   ]
  },
  {
   "cell_type": "code",
   "execution_count": null,
   "id": "ac6dedbd",
   "metadata": {},
   "outputs": [],
   "source": [
    "A = pd.DataFrame([{'a':1,'b':2},{'b':-1,'c':9}])"
   ]
  },
  {
   "cell_type": "code",
   "execution_count": null,
   "id": "f2f20346",
   "metadata": {},
   "outputs": [],
   "source": [
    "A"
   ]
  },
  {
   "cell_type": "code",
   "execution_count": null,
   "id": "9db5cab8",
   "metadata": {},
   "outputs": [],
   "source": [
    "A.fillna(0)"
   ]
  },
  {
   "cell_type": "code",
   "execution_count": null,
   "id": "a0519ab6",
   "metadata": {},
   "outputs": [],
   "source": [
    "A.dropna"
   ]
  },
  {
   "cell_type": "markdown",
   "id": "823f3468",
   "metadata": {},
   "source": [
    "# Indexing in Pandas"
   ]
  },
  {
   "cell_type": "markdown",
   "id": "d8f06a2e",
   "metadata": {},
   "source": [
    "'data[1]' is an explicit index, use 'loc'\n",
    "'data[1:4]' is an implicit index, use 'iloc' "
   ]
  },
  {
   "cell_type": "code",
   "execution_count": null,
   "id": "e01c12ed",
   "metadata": {},
   "outputs": [],
   "source": [
    "A = pd.Series(['a','b','c'],index=[1,3,5])"
   ]
  },
  {
   "cell_type": "code",
   "execution_count": null,
   "id": "adcf049f",
   "metadata": {},
   "outputs": [],
   "source": [
    "A"
   ]
  },
  {
   "cell_type": "code",
   "execution_count": null,
   "id": "73733208",
   "metadata": {},
   "outputs": [],
   "source": [
    "A[1]"
   ]
  },
  {
   "cell_type": "code",
   "execution_count": null,
   "id": "1cb27fc2",
   "metadata": {},
   "outputs": [],
   "source": [
    "A[1:4]"
   ]
  },
  {
   "cell_type": "code",
   "execution_count": null,
   "id": "e8601b5f",
   "metadata": {},
   "outputs": [],
   "source": [
    "# for explicit indx\n",
    "A.loc[1:4]"
   ]
  },
  {
   "cell_type": "code",
   "execution_count": null,
   "id": "b7a7d018",
   "metadata": {},
   "outputs": [],
   "source": [
    "A.iloc[1:4]"
   ]
  },
  {
   "cell_type": "code",
   "execution_count": null,
   "id": "fe32c127",
   "metadata": {},
   "outputs": [],
   "source": [
    "D"
   ]
  },
  {
   "cell_type": "code",
   "execution_count": null,
   "id": "733ca58f",
   "metadata": {},
   "outputs": [],
   "source": [
    "D.iloc[2,:]"
   ]
  },
  {
   "cell_type": "code",
   "execution_count": null,
   "id": "4ccd3cf8",
   "metadata": {},
   "outputs": [],
   "source": [
    "D.iloc[::-1]"
   ]
  },
  {
   "cell_type": "markdown",
   "id": "68ecab9b",
   "metadata": {},
   "source": [
    "# .csv Files in Pandas"
   ]
  },
  {
   "cell_type": "markdown",
   "id": "7b93027a",
   "metadata": {},
   "source": [
    "Using .csv files to run data with"
   ]
  },
  {
   "cell_type": "markdown",
   "id": "19a79b96",
   "metadata": {},
   "source": [
    "Since I dont have the file the class does, this is more conceptual than most modules."
   ]
  },
  {
   "cell_type": "markdown",
   "id": "ca8dba5a",
   "metadata": {},
   "source": [
    "import pandas as pd                                                                                                             \n",
    "import numpy as np                                                                                                             \n",
    "from sklearn.impute import SimpleImputer                                                                                       \n",
    "varaible = pd.read_csv('file_path.csv') #varaible = var"
   ]
  },
  {
   "cell_type": "markdown",
   "id": "12a5ef2a",
   "metadata": {},
   "source": [
    "var.head()    #displays data you just imported                                                                                 \n",
    "var.head(int) #displays up to 'int' of data "
   ]
  },
  {
   "cell_type": "markdown",
   "id": "86dc6f05",
   "metadata": {},
   "source": [
    "var.drop(['column','anotherColumn..],axis=1,inplace=True)                                                                       \n",
    "#drop columns, drop row, reflect operations on Data Frame.. if this last 'inplace=True' is not put in, it will reflect in a temporary variable, but not on the Data Frame"
   ]
  },
  {
   "cell_type": "markdown",
   "id": "622a6b65",
   "metadata": {},
   "source": [
    "## Renaming columns  in data\n",
    "var.rename(columns={'existing_var_column_name':'new_col_name,'...}"
   ]
  },
  {
   "cell_type": "markdown",
   "id": "9f34bae2",
   "metadata": {},
   "source": [
    "## Converting Date Format \n",
    "var.['existing_var_column_name'pd.to_datetime(var['existing_var_column_name'\n",
    "\n",
    "This moves the Date format from mm/dd/yyyy to yyyy-mm-dd"
   ]
  },
  {
   "cell_type": "markdown",
   "id": "9b5d480a",
   "metadata": {},
   "source": [
    "var.describe \n",
    "this gives basic stats on the data"
   ]
  },
  {
   "cell_type": "markdown",
   "id": "a9d6f31d",
   "metadata": {},
   "source": [
    "var.info()\n",
    "gives various info on data"
   ]
  },
  {
   "cell_type": "markdown",
   "id": "0afbf9fb",
   "metadata": {},
   "source": [
    "# Group By in Pandas"
   ]
  },
  {
   "cell_type": "markdown",
   "id": "00b92b10",
   "metadata": {},
   "source": [
    "var2 = var.groupby('existing_var_column_name/grouping object')[['any areas of interest that im looking at with the exisiting var column name,...]].sum().reset_index()\n",
    "\n",
    "/any math i may want to do to help summarize data.reset any index if it is there"
   ]
  },
  {
   "cell_type": "markdown",
   "id": "97c147ff",
   "metadata": {},
   "source": [
    "# [MatPlotLib](https://matplotlib.org/)"
   ]
  },
  {
   "cell_type": "code",
   "execution_count": null,
   "id": "060137f8",
   "metadata": {},
   "outputs": [],
   "source": [
    "import matplotlib.pyplot as plt"
   ]
  },
  {
   "cell_type": "code",
   "execution_count": null,
   "id": "5e93d670",
   "metadata": {},
   "outputs": [],
   "source": [
    "x = np.linspace(0,10,10000)\n",
    "y = np.sin(x)\n",
    "plt.plot(x,y)"
   ]
  },
  {
   "cell_type": "code",
   "execution_count": null,
   "id": "647f7327",
   "metadata": {},
   "outputs": [],
   "source": [
    "plt.scatter(x[::100],y[::100], color = 'red')"
   ]
  },
  {
   "cell_type": "code",
   "execution_count": null,
   "id": "2f61225a",
   "metadata": {},
   "outputs": [],
   "source": [
    "plt.plot(x,y,color='b')\n",
    "plt.plot(x,np.cos(x),color='green')"
   ]
  },
  {
   "cell_type": "code",
   "execution_count": null,
   "id": "54823c2a",
   "metadata": {},
   "outputs": [],
   "source": [
    "plt.plot(x,x+0,'-g') #solid green line\n",
    "plt.plot(x,x+1,'--c') #dashed cyan line\n",
    "plt.plot(x,x+2,'-.k') #dashDot black line\n",
    "plt.plot(x,x+3,':r') #dotted red line"
   ]
  },
  {
   "cell_type": "markdown",
   "id": "626c7ab6",
   "metadata": {},
   "source": [
    "Thats a good start! Next is the actual certificate program! See you in 4 to 6 months!"
   ]
  },
  {
   "cell_type": "code",
   "execution_count": null,
   "id": "fa0ef160",
   "metadata": {},
   "outputs": [],
   "source": []
  }
 ],
 "metadata": {
  "kernelspec": {
   "display_name": "Python 3 (ipykernel)",
   "language": "python",
   "name": "python3"
  },
  "language_info": {
   "codemirror_mode": {
    "name": "ipython",
    "version": 3
   },
   "file_extension": ".py",
   "mimetype": "text/x-python",
   "name": "python",
   "nbconvert_exporter": "python",
   "pygments_lexer": "ipython3",
   "version": "3.9.7"
  }
 },
 "nbformat": 4,
 "nbformat_minor": 5
}
