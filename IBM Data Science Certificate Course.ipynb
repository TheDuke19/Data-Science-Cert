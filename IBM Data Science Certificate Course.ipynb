{
    "cells": [
        {
            "cell_type": "markdown",
            "metadata": {},
            "source": "# My Jupyter Notebook on IBM Watson Studio"
        },
        {
            "cell_type": "markdown",
            "metadata": {},
            "source": "**Luke Wilson**                                                                                                                            \nCurrently Research Associate, looking for Data Scientist"
        },
        {
            "cell_type": "markdown",
            "metadata": {},
            "source": "*I am interested in carbon mitigation and removal from our climate, and proper useage of thereafter. Currently working in a biotech company that caps the worlds largest polluters of CO2, and I feel like I can do more using this type of platform.*"
        },
        {
            "cell_type": "markdown",
            "metadata": {},
            "source": "### Cell 5 is going to have some variables running some easy math for us."
        },
        {
            "cell_type": "code",
            "execution_count": 4,
            "metadata": {},
            "outputs": [
                {
                    "data": {
                        "text/plain": "39"
                    },
                    "execution_count": 4,
                    "metadata": {},
                    "output_type": "execute_result"
                }
            ],
            "source": "a = 3 + 10\nb = 5 - 2\nc = a * b\nc"
        },
        {
            "cell_type": "markdown",
            "metadata": {},
            "source": "Utilizing Jupyter Notebook/Labs in ~~Anaconda packages~~ IBM Watson Studios, we are learning how to:\n***\n1. Find data sets to start with\n2. How to clean/refine data.. a little bit.. \n    * so far it seems like a lot of IBM plugs, but jupyter, pandas, and some basic programming are the outlying goals\n3. How to visualize the data\n    * and run statistics\n4. How to deploy and maintain ML models\n___\nPreviously, I have learned some Python from a wonderful source, [How to Automate the Boring Stuff With Python](https://automatetheboringstuff.com/#toc), by Al Sweigart. Very good tool to learn basic Python syntax with. \n"
        },
        {
            "cell_type": "code",
            "execution_count": null,
            "metadata": {},
            "outputs": [],
            "source": ""
        }
    ],
    "metadata": {
        "kernelspec": {
            "display_name": "Python 3.8",
            "language": "python",
            "name": "python3"
        },
        "language_info": {
            "codemirror_mode": {
                "name": "ipython",
                "version": 3
            },
            "file_extension": ".py",
            "mimetype": "text/x-python",
            "name": "python",
            "nbconvert_exporter": "python",
            "pygments_lexer": "ipython3",
            "version": "3.8.12"
        }
    },
    "nbformat": 4,
    "nbformat_minor": 1
}